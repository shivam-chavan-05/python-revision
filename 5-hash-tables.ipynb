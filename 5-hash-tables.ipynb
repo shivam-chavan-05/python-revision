{
 "cells": [
  {
   "cell_type": "markdown",
   "id": "5fae0805",
   "metadata": {},
   "source": [
    "# Hash Tables (Dictionaries)"
   ]
  },
  {
   "cell_type": "code",
   "execution_count": 1,
   "id": "af1f1c96",
   "metadata": {},
   "outputs": [
    {
     "name": "stdout",
     "output_type": "stream",
     "text": [
      "Name: Shivam\n",
      "Email exists!\n",
      "name => Shivam\n",
      "age => 26\n",
      "email => shivam@example.com\n",
      "Not Found\n",
      "------------------------------\n",
      "Hello, Shivam!\n",
      "Square of 4: 16\n",
      "Welcome, Guest!\n",
      "Welcome, Snehal!\n",
      "------------------------------\n",
      "Union: {1, 2, 3, 4, 5}\n",
      "Intersection: {3}\n",
      "Difference: {1, 2}\n",
      "Apple is in the set!\n",
      "apple\n",
      "orange\n",
      "mango\n",
      "------------------------------\n",
      "Squares: [1, 4, 9, 16, 25]\n",
      "Doubles: [2, 4, 6, 8, 10]\n",
      "------------------------------\n",
      "Character frequencies: {'h': 1, 'e': 1, 'l': 3, 'o': 2, ' ': 1, 'w': 1, 'r': 1, 'd': 1}\n"
     ]
    }
   ],
   "source": [
    "# ================================\n",
    "# 🧠 HASH TABLES (Dictionaries)\n",
    "# ================================\n",
    "\n",
    "# In Python, hash tables are implemented using the built-in `dict` type.\n",
    "\n",
    "# ✅ Create a dictionary\n",
    "person = {\n",
    "    \"name\": \"Shivam\",\n",
    "    \"age\": 25,\n",
    "    \"city\": \"Washington\"\n",
    "}\n",
    "\n",
    "# ✅ Accessing values\n",
    "print(\"Name:\", person[\"name\"])  # Output: Shivam\n",
    "\n",
    "# ✅ Adding a new key-value pair\n",
    "person[\"email\"] = \"shivam@example.com\"\n",
    "\n",
    "# ✅ Updating a value\n",
    "person[\"age\"] = 26\n",
    "\n",
    "# ✅ Deleting a key\n",
    "del person[\"city\"]\n",
    "\n",
    "# ✅ Check if key exists\n",
    "if \"email\" in person:\n",
    "    print(\"Email exists!\")\n",
    "\n",
    "# ✅ Looping through a dictionary\n",
    "for key, value in person.items():\n",
    "    print(f\"{key} => {value}\")\n",
    "\n",
    "# ✅ Safe access using get (avoids KeyError)\n",
    "print(person.get(\"city\", \"Not Found\"))  # Output: Not Found\n",
    "\n",
    "print(\"-\" * 30)\n",
    "\n",
    "# ================================\n",
    "# 🧠 FUNCTIONS in Python\n",
    "# ================================\n",
    "\n",
    "# ✅ Basic function definition and call\n",
    "def greet(name):\n",
    "    print(f\"Hello, {name}!\")\n",
    "\n",
    "greet(\"Shivam\")  # Output: Hello, Shivam!\n",
    "\n",
    "# ✅ Function with return value\n",
    "def square(n):\n",
    "    return n * n\n",
    "\n",
    "print(\"Square of 4:\", square(4))  # Output: 16\n",
    "\n",
    "# ✅ Function with default parameter\n",
    "def welcome(name=\"Guest\"):\n",
    "    print(f\"Welcome, {name}!\")\n",
    "\n",
    "welcome()             # Output: Welcome, Guest!\n",
    "welcome(\"Snehal\")     # Output: Welcome, Snehal!\n",
    "\n",
    "print(\"-\" * 30)\n",
    "\n",
    "# ================================\n",
    "# 🧠 SETS in Python\n",
    "# ================================\n",
    "\n",
    "# A set is an unordered collection of unique elements.\n",
    "\n",
    "# ✅ Creating a set\n",
    "fruits = {\"apple\", \"banana\", \"mango\", \"apple\"}  # Duplicates are ignored\n",
    "\n",
    "# ✅ Add element\n",
    "fruits.add(\"orange\")\n",
    "\n",
    "# ✅ Remove element safely\n",
    "fruits.discard(\"banana\")  # No error if element not present\n",
    "\n",
    "# ✅ Set operations\n",
    "a = {1, 2, 3}\n",
    "b = {3, 4, 5}\n",
    "\n",
    "print(\"Union:\", a | b)         # {1, 2, 3, 4, 5}\n",
    "print(\"Intersection:\", a & b)  # {3}\n",
    "print(\"Difference:\", a - b)    # {1, 2}\n",
    "\n",
    "# ✅ Check membership\n",
    "if \"apple\" in fruits:\n",
    "    print(\"Apple is in the set!\")\n",
    "\n",
    "# ✅ Loop through a set\n",
    "for fruit in fruits:\n",
    "    print(fruit)\n",
    "\n",
    "print(\"-\" * 30)\n",
    "\n",
    "# ================================\n",
    "# 🧠 MAP Function (not dict!)\n",
    "# ================================\n",
    "\n",
    "# map(func, iterable) applies a function to every item in an iterable\n",
    "\n",
    "# ✅ Example 1: Using map to square a list\n",
    "nums = [1, 2, 3, 4, 5]\n",
    "\n",
    "def square_fn(x):\n",
    "    return x * x\n",
    "\n",
    "squares = list(map(square_fn, nums))\n",
    "print(\"Squares:\", squares)  # [1, 4, 9, 16, 25]\n",
    "\n",
    "# ✅ Example 2: Using lambda with map\n",
    "doubles = list(map(lambda x: x * 2, nums))\n",
    "print(\"Doubles:\", doubles)  # [2, 4, 6, 8, 10]\n",
    "\n",
    "print(\"-\" * 30)\n",
    "\n",
    "# ================================\n",
    "# BONUS: Dictionary as Frequency Counter (Hash Table use-case)\n",
    "# ================================\n",
    "\n",
    "from collections import defaultdict\n",
    "\n",
    "# ✅ Count characters in a string\n",
    "def char_count(s):\n",
    "    count = defaultdict(int)\n",
    "    for char in s:\n",
    "        count[char] += 1\n",
    "    return dict(count)\n",
    "\n",
    "print(\"Character frequencies:\", char_count(\"hello world\"))\n",
    "\n",
    "# ================================\n",
    "# END OF FILE\n",
    "# ================================\n"
   ]
  },
  {
   "cell_type": "code",
   "execution_count": 2,
   "id": "c0d37d13",
   "metadata": {},
   "outputs": [],
   "source": [
    "# 🟡 What is a Hash Table?\n",
    "# A data structure that maps keys to values using a hash function to determine the index in an array.\n",
    "\n",
    "# 🔴 What is a Collision?\n",
    "# A collision happens when two different keys hash to the same index.\n",
    "\n",
    "# 🚧 Collision Resolution Strategies\n",
    "# 1. Chaining:\n",
    "# Each bucket holds a list (or linked list) of entries.\n",
    "\n",
    "# Collisions are stored in the same bucket as a chain (e.g., a list).\n",
    "\n",
    "# 2. Linear Probing:\n",
    "# All entries are stored directly in the hash table array.\n",
    "\n",
    "# If the hashed index is occupied, probe the next available slot linearly (i.e., index + 1, +2, etc.)."
   ]
  },
  {
   "cell_type": "code",
   "execution_count": 3,
   "id": "e5e101c8",
   "metadata": {},
   "outputs": [
    {
     "name": "stdout",
     "output_type": "stream",
     "text": [
      "42\n",
      "1751123715789562788\n",
      "529344067295497451\n"
     ]
    }
   ],
   "source": [
    "# ✅ Hashable types\n",
    "x = 42               # int\n",
    "y = 3.14             # float\n",
    "s = \"hello\"          # str\n",
    "t = (1, 2, 3)        # tuple (if it contains only hashable types)\n",
    "b = True             # bool\n",
    "f = frozenset({1, 2})# frozenset (immutable set)\n",
    "\n",
    "# Using hash()\n",
    "print(hash(x))       # Works\n",
    "print(hash(s))       # Works\n",
    "print(hash(t))       # Works\n",
    "\n",
    "# Can be used as dictionary keys or set elements\n",
    "d = {s: \"value\"}     # Works\n",
    "my_set = {x, y, s}   # Works"
   ]
  },
  {
   "cell_type": "code",
   "execution_count": 4,
   "id": "378bf9d6",
   "metadata": {},
   "outputs": [],
   "source": [
    "# ❌ Not Hashable types\n",
    "l = [1, 2, 3]         # list\n",
    "d = {\"a\": 1}          # dict\n",
    "s = {1, 2, 3}         # set\n",
    "\n",
    "# Using hash()\n",
    "# print(hash(l))     # ❌ TypeError\n",
    "# print(hash(d))     # ❌ TypeError\n",
    "# print(hash(s))     # ❌ TypeError\n",
    "\n",
    "# Using them as dictionary keys or set elements → ERROR\n",
    "# my_dict = {l: \"value\"}   # ❌ TypeError\n",
    "# my_set = {s}             # ❌ TypeError"
   ]
  },
  {
   "cell_type": "markdown",
   "id": "2e8f86c8",
   "metadata": {},
   "source": [
    "# Greg Hogg"
   ]
  },
  {
   "cell_type": "code",
   "execution_count": 5,
   "id": "bf0e744a",
   "metadata": {},
   "outputs": [
    {
     "name": "stdout",
     "output_type": "stream",
     "text": [
      "set()\n"
     ]
    }
   ],
   "source": [
    "# Hashsets\n",
    "\n",
    "s = set()\n",
    "print(s)"
   ]
  },
  {
   "cell_type": "code",
   "execution_count": 6,
   "id": "e4ff1507",
   "metadata": {},
   "outputs": [
    {
     "name": "stdout",
     "output_type": "stream",
     "text": [
      "{1, 2, 3}\n"
     ]
    }
   ],
   "source": [
    "# Add item into Set - O(1)\n",
    "s.add(1)\n",
    "s.add(2)\n",
    "s.add(3)\n",
    "\n",
    "print(s)"
   ]
  },
  {
   "cell_type": "code",
   "execution_count": 7,
   "id": "424b978a",
   "metadata": {},
   "outputs": [],
   "source": [
    "# Lookup if item in set - O(1)\n",
    "if 1 not in s:\n",
    "  print(True)"
   ]
  },
  {
   "cell_type": "code",
   "execution_count": 8,
   "id": "e5f02ce3",
   "metadata": {},
   "outputs": [
    {
     "name": "stdout",
     "output_type": "stream",
     "text": [
      "{1, 2}\n"
     ]
    }
   ],
   "source": [
    "# Remove item from set - O(1)\n",
    "s.remove(3)\n",
    "\n",
    "print(s)"
   ]
  },
  {
   "cell_type": "code",
   "execution_count": 9,
   "id": "c9ffe0b0",
   "metadata": {},
   "outputs": [
    {
     "data": {
      "text/plain": [
       "{'a', 'b', 'c', 'e'}"
      ]
     },
     "execution_count": 9,
     "metadata": {},
     "output_type": "execute_result"
    }
   ],
   "source": [
    "# Set construction - O(S) - S is the length of the string\n",
    "string = 'aaaaaaabbbbbbbbbbbccccccccceeeeeeeee'\n",
    "sett = set(string)\n",
    "\n",
    "sett"
   ]
  },
  {
   "cell_type": "code",
   "execution_count": 10,
   "id": "a01470c4",
   "metadata": {},
   "outputs": [
    {
     "name": "stdout",
     "output_type": "stream",
     "text": [
      "1\n",
      "2\n"
     ]
    }
   ],
   "source": [
    "# Loop over items in set - O(n)\n",
    "for x in s:\n",
    "  print(x)"
   ]
  },
  {
   "cell_type": "code",
   "execution_count": 11,
   "id": "3fbd0974",
   "metadata": {},
   "outputs": [
    {
     "name": "stdout",
     "output_type": "stream",
     "text": [
      "{'greg': 1, 'steve': 2, 'rob': 3}\n"
     ]
    }
   ],
   "source": [
    "# Hashmaps - Dictionaries\n",
    "\n",
    "d = {'greg': 1, 'steve': 2, 'rob': 3}\n",
    "\n",
    "print(d)"
   ]
  },
  {
   "cell_type": "code",
   "execution_count": 12,
   "id": "6b382f06",
   "metadata": {},
   "outputs": [
    {
     "name": "stdout",
     "output_type": "stream",
     "text": [
      "{'greg': 1, 'steve': 2, 'rob': 3, 'arsh': 4}\n"
     ]
    }
   ],
   "source": [
    "# Add key:val in dictionary: O(1)\n",
    "d['arsh'] = 4\n",
    "\n",
    "print(d)"
   ]
  },
  {
   "cell_type": "code",
   "execution_count": 13,
   "id": "8cc0e0f0",
   "metadata": {},
   "outputs": [
    {
     "name": "stdout",
     "output_type": "stream",
     "text": [
      "True\n"
     ]
    }
   ],
   "source": [
    "# Check for presence of key in dictionary: O(1)\n",
    "if 'greg' in d:\n",
    "  print(True)"
   ]
  },
  {
   "cell_type": "code",
   "execution_count": 14,
   "id": "e7a0fd27",
   "metadata": {},
   "outputs": [
    {
     "name": "stdout",
     "output_type": "stream",
     "text": [
      "1\n"
     ]
    }
   ],
   "source": [
    "# Check the value corresponding to a key in the dictionary: O(1)\n",
    "print(d['greg'])"
   ]
  },
  {
   "cell_type": "code",
   "execution_count": 15,
   "id": "0b3dba69",
   "metadata": {},
   "outputs": [
    {
     "name": "stdout",
     "output_type": "stream",
     "text": [
      "key greg: val 1\n",
      "key steve: val 2\n",
      "key rob: val 3\n",
      "key arsh: val 4\n"
     ]
    }
   ],
   "source": [
    "# Loop over the key:val pairs of the dictionary: O(n)\n",
    "for key, val in d.items():\n",
    "  print(f'key {key}: val {val}')"
   ]
  },
  {
   "cell_type": "code",
   "execution_count": 16,
   "id": "5428fbe6",
   "metadata": {},
   "outputs": [
    {
     "data": {
      "text/plain": [
       "[]"
      ]
     },
     "execution_count": 16,
     "metadata": {},
     "output_type": "execute_result"
    }
   ],
   "source": [
    "# Defaultdict\n",
    "\n",
    "from collections import defaultdict\n",
    "\n",
    "default = defaultdict(list)\n",
    "\n",
    "default[2]"
   ]
  },
  {
   "cell_type": "code",
   "execution_count": 17,
   "id": "c8ac40d6",
   "metadata": {},
   "outputs": [
    {
     "data": {
      "text/plain": [
       "defaultdict(list, {2: []})"
      ]
     },
     "execution_count": 17,
     "metadata": {},
     "output_type": "execute_result"
    }
   ],
   "source": [
    "default"
   ]
  },
  {
   "cell_type": "code",
   "execution_count": 18,
   "id": "24764296",
   "metadata": {},
   "outputs": [
    {
     "name": "stdout",
     "output_type": "stream",
     "text": [
      "Counter({'b': 11, 'c': 9, 'e': 9, 'a': 7})\n"
     ]
    }
   ],
   "source": [
    "# Counter\n",
    "from collections import Counter\n",
    "\n",
    "counter = Counter(string)\n",
    "\n",
    "print(counter)"
   ]
  },
  {
   "cell_type": "code",
   "execution_count": null,
   "id": "21303a60",
   "metadata": {},
   "outputs": [],
   "source": []
  }
 ],
 "metadata": {
  "kernelspec": {
   "display_name": "Python 3",
   "language": "python",
   "name": "python3"
  },
  "language_info": {
   "codemirror_mode": {
    "name": "ipython",
    "version": 3
   },
   "file_extension": ".py",
   "mimetype": "text/x-python",
   "name": "python",
   "nbconvert_exporter": "python",
   "pygments_lexer": "ipython3",
   "version": "3.11.9"
  }
 },
 "nbformat": 4,
 "nbformat_minor": 5
}
