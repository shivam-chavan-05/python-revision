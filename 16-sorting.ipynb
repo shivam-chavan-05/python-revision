{
 "cells": [
  {
   "cell_type": "markdown",
   "id": "394c3ac3",
   "metadata": {},
   "source": [
    "## Sorting"
   ]
  },
  {
   "cell_type": "code",
   "execution_count": null,
   "id": "14854286",
   "metadata": {},
   "outputs": [
    {
     "name": "stdout",
     "output_type": "stream",
     "text": [
      "1. Bubble Sort: [1, 2, 5, 5, 6, 9]\n",
      "2. Insertion Sort: [1, 3, 4, 5, 9]\n",
      "3. Selection Sort: [11, 12, 22, 25, 64]\n",
      "4. Merge Sort: [3, 9, 10, 27, 38, 43, 82]\n",
      "5. Quick Sort: [1, 5, 7, 8, 9, 10]\n",
      "6. Counting Sort: [1, 2, 2, 3, 3, 4, 8]\n"
     ]
    }
   ],
   "source": [
    "# sorting_algorithms_tutorial.py\n",
    "\n",
    "# When you use Python's built-in list.sort() or sorted() function, Python uses an algorithm called Timsort.\n",
    "# Timsort is a hybrid sorting algorithm derived from:\n",
    "\n",
    "# Merge Sort 🧩 (for stable, recursive merging)\n",
    "\n",
    "# Insertion Sort 🪛 (for small runs)\n",
    "\n",
    "# -------------------------------\n",
    "# 📚 WHAT IS SORTING?\n",
    "# -------------------------------\n",
    "# Sorting means arranging elements in a specific order (ascending/descending).\n",
    "# Common use cases include searching, ranking, and organizing data.\n",
    "\n",
    "# ------------------------------------\n",
    "# 1. 🫧 BUBBLE SORT\n",
    "# ------------------------------------\n",
    "# Repeatedly compares adjacent elements and swaps them if they are in the wrong order.\n",
    "# Time Complexity: O(n^2), Space: O(1)\n",
    "\n",
    "def bubble_sort(arr):\n",
    "    n = len(arr)\n",
    "    for i in range(n):\n",
    "        for j in range(0, n - i - 1):  # Last i elements are already sorted\n",
    "            if arr[j] > arr[j + 1]:\n",
    "                arr[j], arr[j + 1] = arr[j + 1], arr[j]  # Swap\n",
    "    return arr\n",
    "\n",
    "print(\"1. Bubble Sort:\", bubble_sort([5, 2, 9, 1, 5, 6]))\n",
    "\n",
    "\n",
    "# ------------------------------------\n",
    "# 2. 🪛 INSERTION SORT\n",
    "# ------------------------------------\n",
    "# Builds the sorted array one item at a time by inserting into correct position.\n",
    "# Good for small or nearly sorted arrays.\n",
    "# Time: O(n^2), Space: O(1)\n",
    "\n",
    "def insertion_sort(arr):\n",
    "    for i in range(1, len(arr)):\n",
    "        key = arr[i]\n",
    "        j = i - 1\n",
    "        # Move elements of arr[0..i-1], that are greater than key\n",
    "        while j >= 0 and arr[j] > key:\n",
    "            arr[j + 1] = arr[j]\n",
    "            j -= 1\n",
    "        arr[j + 1] = key\n",
    "    return arr\n",
    "\n",
    "print(\"2. Insertion Sort:\", insertion_sort([9, 5, 1, 4, 3]))\n",
    "\n",
    "\n",
    "# ------------------------------------\n",
    "# 3. 📌 SELECTION SORT\n",
    "# ------------------------------------\n",
    "# Repeatedly finds the minimum element and places it at the front.\n",
    "# Time: O(n^2), Space: O(1)\n",
    "\n",
    "def selection_sort(arr):\n",
    "    for i in range(len(arr)):\n",
    "        min_idx = i\n",
    "        for j in range(i + 1, len(arr)):\n",
    "            if arr[j] < arr[min_idx]:\n",
    "                min_idx = j\n",
    "        arr[i], arr[min_idx] = arr[min_idx], arr[i]\n",
    "    return arr\n",
    "\n",
    "print(\"3. Selection Sort:\", selection_sort([64, 25, 12, 22, 11]))\n",
    "\n",
    "\n",
    "# ------------------------------------\n",
    "# 4. 🧩 MERGE SORT\n",
    "# ------------------------------------\n",
    "# Divide-and-conquer. Recursively splits array and merges sorted halves.\n",
    "# Time: O(n log n), Space: O(n)\n",
    "\n",
    "def merge_sort(arr):\n",
    "    if len(arr) <= 1:\n",
    "        return arr\n",
    "\n",
    "    # Split array\n",
    "    mid = len(arr) // 2\n",
    "    left = merge_sort(arr[:mid])\n",
    "    right = merge_sort(arr[mid:])\n",
    "\n",
    "    # Merge two sorted halves\n",
    "    return merge(left, right)\n",
    "\n",
    "def merge(left, right):\n",
    "    result = []\n",
    "    i = j = 0\n",
    "\n",
    "    # Merge while comparing\n",
    "    while i < len(left) and j < len(right):\n",
    "        if left[i] < right[j]:\n",
    "            result.append(left[i])\n",
    "            i += 1\n",
    "        else:\n",
    "            result.append(right[j])\n",
    "            j += 1\n",
    "\n",
    "    # Append remaining\n",
    "    result.extend(left[i:])\n",
    "    result.extend(right[j:])\n",
    "    return result\n",
    "\n",
    "print(\"4. Merge Sort:\", merge_sort([38, 27, 43, 3, 9, 82, 10]))\n",
    "\n",
    "\n",
    "# ------------------------------------\n",
    "# 5. ⚡ QUICK SORT\n",
    "# ------------------------------------\n",
    "# Divide-and-conquer. Picks a pivot, partitions array into elements < and > pivot.\n",
    "# Average Time: O(n log n), Worst: O(n^2), Space: O(log n)\n",
    "\n",
    "def quick_sort(arr):\n",
    "    if len(arr) <= 1:\n",
    "        return arr\n",
    "\n",
    "    pivot = arr[len(arr) // 2]  # Can pick any element\n",
    "    left = [x for x in arr if x < pivot]  # Smaller than pivot\n",
    "    middle = [x for x in arr if x == pivot]  # Equal to pivot\n",
    "    right = [x for x in arr if x > pivot]  # Greater than pivot\n",
    "\n",
    "    return quick_sort(left) + middle + quick_sort(right)\n",
    "\n",
    "print(\"5. Quick Sort:\", quick_sort([10, 7, 8, 9, 1, 5]))\n",
    "\n",
    "\n",
    "# ------------------------------------\n",
    "# 6. 🧮 COUNTING SORT\n",
    "# ------------------------------------\n",
    "# Works well when input is in a known, limited range (e.g., 0 to k)\n",
    "# Not comparison-based. Time: O(n + k), Space: O(k)\n",
    "\n",
    "def counting_sort(arr):\n",
    "    if not arr:\n",
    "        return []\n",
    "\n",
    "    max_val = max(arr)\n",
    "    count = [0] * (max_val + 1)\n",
    "\n",
    "    # Count occurrences\n",
    "    for num in arr:\n",
    "        count[num] += 1\n",
    "\n",
    "    # Build sorted array\n",
    "    result = []\n",
    "    for i, c in enumerate(count):\n",
    "        result.extend([i] * c)\n",
    "\n",
    "    return result\n",
    "\n",
    "print(\"6. Counting Sort:\", counting_sort([4, 2, 2, 8, 3, 3, 1]))\n",
    "\n",
    "\n",
    "# ------------------------------------\n",
    "# 📝 Summary\n",
    "# ------------------------------------\n",
    "# - Bubble Sort, Insertion Sort, Selection Sort: Simple but O(n^2)\n",
    "# - Merge Sort, Quick Sort: Efficient and used in practice (O(n log n))\n",
    "# - Counting Sort: Super fast for small-range integers, O(n + k)\n",
    "\n",
    "# Want to try these on user input or in a GUI? Let me know!\n"
   ]
  },
  {
   "cell_type": "markdown",
   "id": "d387c1d8",
   "metadata": {},
   "source": [
    "## greg Hogg"
   ]
  },
  {
   "cell_type": "code",
   "execution_count": 2,
   "id": "64b1e028",
   "metadata": {},
   "outputs": [
    {
     "data": {
      "text/plain": [
       "[-5, -3, -3, 1, 2, 2, 2, 3, 7]"
      ]
     },
     "execution_count": 2,
     "metadata": {},
     "output_type": "execute_result"
    }
   ],
   "source": [
    "# Bubble Sort\n",
    "# Time: O(n^2)\n",
    "# Space: O(1)\n",
    "\n",
    "A = [-5, 3, 2, 1, -3, -3, 7, 2, 2]\n",
    "\n",
    "def bubble_sort(arr):\n",
    "  n = len(arr)\n",
    "  flag = True\n",
    "  while flag:\n",
    "    flag = False\n",
    "    for i in range(1, n):\n",
    "      if arr[i-1] > arr[i]:\n",
    "        flag = True\n",
    "        arr[i-1], arr[i] = arr[i], arr[i-1]\n",
    "\n",
    "bubble_sort(A)\n",
    "A"
   ]
  },
  {
   "cell_type": "code",
   "execution_count": 3,
   "id": "0800541c",
   "metadata": {},
   "outputs": [
    {
     "data": {
      "text/plain": [
       "[-5, -3, -3, 1, 2, 2, 2, 3, 7]"
      ]
     },
     "execution_count": 3,
     "metadata": {},
     "output_type": "execute_result"
    }
   ],
   "source": [
    "# Insertion Sort\n",
    "# Time: O(n^2)\n",
    "# Space: O(1)\n",
    "\n",
    "B = [-5, 3, 2, 1, -3, -3, 7, 2, 2]\n",
    "\n",
    "def insertion_sort(arr):\n",
    "  n = len(arr)\n",
    "  for i in range(1, n):\n",
    "    for j in range(i, 0, -1):\n",
    "      if arr[j-1] > arr[j]:\n",
    "        arr[j-1], arr[j] = arr[j], arr[j-1]\n",
    "      else:\n",
    "        break\n",
    "\n",
    "insertion_sort(B)\n",
    "B"
   ]
  },
  {
   "cell_type": "code",
   "execution_count": 4,
   "id": "f5062ce3",
   "metadata": {},
   "outputs": [
    {
     "data": {
      "text/plain": [
       "[-5, -3, -3, 1, 2, 2, 2, 3, 7]"
      ]
     },
     "execution_count": 4,
     "metadata": {},
     "output_type": "execute_result"
    }
   ],
   "source": [
    "# Selection Sort\n",
    "# Time: O(n^2)\n",
    "# Space: O(1)\n",
    "\n",
    "C = [-3, 3, 2, 1, -5, -3, 7, 2, 2]\n",
    "\n",
    "def selection_sort(arr):\n",
    "  n = len(arr)\n",
    "  for i in range(n):\n",
    "    min_index = i\n",
    "    for j in range(i+1, n):\n",
    "      if arr[j] < arr[min_index]:\n",
    "        min_index = j\n",
    "    arr[i], arr[min_index] = arr[min_index], arr[i]\n",
    "\n",
    "selection_sort(C)\n",
    "C"
   ]
  },
  {
   "cell_type": "code",
   "execution_count": 5,
   "id": "c095be8b",
   "metadata": {},
   "outputs": [
    {
     "data": {
      "text/plain": [
       "[-5, -3, -3, 1, 2, 2, 2, 3, 7]"
      ]
     },
     "execution_count": 5,
     "metadata": {},
     "output_type": "execute_result"
    }
   ],
   "source": [
    "# Merge Sort\n",
    "# Time: O(n log n)\n",
    "# Space: O(n) - Note: can be Log n, but this is harder to write\n",
    "\n",
    "\n",
    "D = [-5, 3, 2, 1, -3, -3, 7, 2, 2]\n",
    "\n",
    "def merge_sort(arr):\n",
    "  n = len(arr)\n",
    "\n",
    "  if n == 1:\n",
    "    return arr\n",
    "\n",
    "  m = len(arr) // 2\n",
    "  L = arr[:m]\n",
    "  R = arr[m:]\n",
    "\n",
    "  L = merge_sort(L)\n",
    "  R = merge_sort(R)\n",
    "  l, r = 0, 0\n",
    "  L_len = len(L)\n",
    "  R_len = len(R)\n",
    "\n",
    "  sorted_arr = [0] * n\n",
    "  i = 0\n",
    "\n",
    "  while l < L_len and r < R_len:\n",
    "    if L[l] < R[r]:\n",
    "      sorted_arr[i] = L[l]\n",
    "      l += 1\n",
    "    else:\n",
    "      sorted_arr[i] = R[r]\n",
    "      r += 1\n",
    "\n",
    "    i += 1\n",
    "\n",
    "  while l < L_len:\n",
    "    sorted_arr[i] = L[l]\n",
    "    l += 1\n",
    "    i += 1\n",
    "\n",
    "  while r < R_len:\n",
    "    sorted_arr[i] = R[r]\n",
    "    r += 1\n",
    "    i += 1\n",
    "\n",
    "  return sorted_arr\n",
    "\n",
    "merge_sort(D)\n"
   ]
  },
  {
   "cell_type": "code",
   "execution_count": 6,
   "id": "bd07f927",
   "metadata": {},
   "outputs": [
    {
     "data": {
      "text/plain": [
       "[-5, -3, -3, 1, 2, 2, 2, 3, 7]"
      ]
     },
     "execution_count": 6,
     "metadata": {},
     "output_type": "execute_result"
    }
   ],
   "source": [
    "# Quick Sort\n",
    "# Time: O(n log n) (Average case, technically Worst case is O(n^2))\n",
    "# Space: O(n)\n",
    "\n",
    "E = [-5, 3, 2, 1, -3, -3, 7, 2, 2]\n",
    "\n",
    "def quick_sort(arr):\n",
    "  if len(arr) <= 1:\n",
    "    return arr\n",
    "\n",
    "  p = arr[-1]\n",
    "\n",
    "  L = [x for x in arr[:-1] if x <= p]\n",
    "  R = [x for x in arr[:-1] if x > p]\n",
    "\n",
    "  L = quick_sort(L)\n",
    "  R = quick_sort(R)\n",
    "\n",
    "  return L + [p] + R\n",
    "\n",
    "quick_sort(E)"
   ]
  },
  {
   "cell_type": "code",
   "execution_count": 7,
   "id": "f61b4045",
   "metadata": {},
   "outputs": [
    {
     "data": {
      "text/plain": [
       "[1, 2, 2, 2, 3, 3, 3, 5, 7]"
      ]
     },
     "execution_count": 7,
     "metadata": {},
     "output_type": "execute_result"
    }
   ],
   "source": [
    "# Counting Sort\n",
    "# Time: O(n + k) where k is the range of data\n",
    "\n",
    "# Note - This can be written with negative arrays, but we'll stick to positive arrays,\n",
    "# so k is the max of the array\n",
    "\n",
    "# Space: O(k)\n",
    "\n",
    "F = [5, 3, 2, 1, 3, 3, 7, 2, 2]\n",
    "\n",
    "def counting_sort(arr):\n",
    "  n = len(arr)\n",
    "  maxx = max(arr)\n",
    "  counts = [0] * (maxx + 1)\n",
    "\n",
    "  for x in arr:\n",
    "    counts[x] += 1\n",
    "\n",
    "  i = 0\n",
    "  for c in range(maxx + 1):\n",
    "    while counts[c] > 0:\n",
    "      arr[i] = c\n",
    "      i += 1\n",
    "      counts[c] -= 1\n",
    "\n",
    "counting_sort(F)\n",
    "F"
   ]
  },
  {
   "cell_type": "code",
   "execution_count": 8,
   "id": "d2adbb56",
   "metadata": {},
   "outputs": [],
   "source": [
    "# What we usually do in practice\n",
    "\n",
    "# Time complexity is O(n log n) from using Tim Sort"
   ]
  },
  {
   "cell_type": "code",
   "execution_count": 9,
   "id": "97da0584",
   "metadata": {},
   "outputs": [
    {
     "data": {
      "text/plain": [
       "[-5, -3, -3, 1, 2, 2, 2, 3, 7]"
      ]
     },
     "execution_count": 9,
     "metadata": {},
     "output_type": "execute_result"
    }
   ],
   "source": [
    "G = [-5, 3, 2, 1, -3, -3, 7, 2, 2]\n",
    "\n",
    "# In place (constant space)\n",
    "G.sort()\n",
    "\n",
    "G"
   ]
  },
  {
   "cell_type": "code",
   "execution_count": 10,
   "id": "63f86d33",
   "metadata": {},
   "outputs": [
    {
     "data": {
      "text/plain": [
       "([-5, 3, 2, 1, -3, -3, 7, 2, 2], [-5, -3, -3, 1, 2, 2, 2, 3, 7])"
      ]
     },
     "execution_count": 10,
     "metadata": {},
     "output_type": "execute_result"
    }
   ],
   "source": [
    "# Get new sorted array - O(n) space\n",
    "\n",
    "H = [-5, 3, 2, 1, -3, -3, 7, 2, 2]\n",
    "\n",
    "sorted_H = sorted(H)\n",
    "\n",
    "H, sorted_H"
   ]
  },
  {
   "cell_type": "code",
   "execution_count": 11,
   "id": "4349d4d3",
   "metadata": {},
   "outputs": [
    {
     "data": {
      "text/plain": [
       "[(-5, 3), (7, 2), (2, 2), (2, 1), (-3, -3)]"
      ]
     },
     "execution_count": 11,
     "metadata": {},
     "output_type": "execute_result"
    }
   ],
   "source": [
    "# Sort array of tuples\n",
    "\n",
    "I = [(-5, 3), (2, 1), (-3, -3), (7, 2), (2, 2)]\n",
    "\n",
    "sorted_I = sorted(I, key = lambda t: -t[1])\n",
    "\n",
    "sorted_I"
   ]
  },
  {
   "cell_type": "code",
   "execution_count": null,
   "id": "47faa26e",
   "metadata": {},
   "outputs": [],
   "source": []
  }
 ],
 "metadata": {
  "kernelspec": {
   "display_name": "Python 3",
   "language": "python",
   "name": "python3"
  },
  "language_info": {
   "codemirror_mode": {
    "name": "ipython",
    "version": 3
   },
   "file_extension": ".py",
   "mimetype": "text/x-python",
   "name": "python",
   "nbconvert_exporter": "python",
   "pygments_lexer": "ipython3",
   "version": "3.11.9"
  }
 },
 "nbformat": 4,
 "nbformat_minor": 5
}
