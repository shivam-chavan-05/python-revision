{
 "cells": [
  {
   "cell_type": "markdown",
   "id": "cfc88605",
   "metadata": {},
   "source": [
    "## Binary Search"
   ]
  },
  {
   "cell_type": "code",
   "execution_count": null,
   "id": "b54d64dc",
   "metadata": {},
   "outputs": [
    {
     "name": "stdout",
     "output_type": "stream",
     "text": [
      "Target 7 found at index 3.\n",
      "First number >= 10 is 11 at index 5.\n"
     ]
    }
   ],
   "source": [
    "# Binary Search in Python\n",
    "# ------------------------\n",
    "# Binary Search is an efficient algorithm to find the position of a target element\n",
    "# in a **sorted** list. It works by repeatedly dividing the search interval in half.\n",
    "# Time Complexity: O(log n)\n",
    "# Space Complexity: O(1) for iterative implementation.\n",
    "\n",
    "# Binary search requires the list to be sorted in ascending (or descending) order.\n",
    "\n",
    "# -----------------------------\n",
    "# 1. Traditional Binary Search:\n",
    "# -----------------------------\n",
    "\n",
    "def binary_search(arr, target):\n",
    "    \"\"\"\n",
    "    Performs binary search on a sorted list.\n",
    "\n",
    "    Parameters:\n",
    "    arr (List[int]): The sorted list to search in.\n",
    "    target (int): The number to search for.\n",
    "\n",
    "    Returns:\n",
    "    int: The index of target if found, else -1.\n",
    "    \"\"\"\n",
    "    left = 0\n",
    "    right = len(arr) - 1  # Initialize boundaries\n",
    "\n",
    "    while left <= right:\n",
    "        mid = (left + right) // 2  # Find the middle index\n",
    "        mid_value = arr[mid]       # Get the middle element\n",
    "\n",
    "        if mid_value == target:\n",
    "            return mid             # Target found\n",
    "        elif mid_value < target:\n",
    "            left = mid + 1         # Ignore left half\n",
    "        else:\n",
    "            right = mid - 1        # Ignore right half\n",
    "\n",
    "    return -1  # Target not found\n",
    "\n",
    "\n",
    "# -----------------------------\n",
    "# 2. Conditional-Based Binary Search:\n",
    "# -----------------------------\n",
    "# This version of binary search is useful for problems where you're not searching\n",
    "# for a value directly, but rather the **first/last index** that satisfies a condition.\n",
    "# Examples: First True in a boolean array, first number >= target, etc.\n",
    "\n",
    "def conditional_binary_search(arr, condition):\n",
    "    \"\"\"\n",
    "    Finds the lowest index for which the condition returns True.\n",
    "\n",
    "    Parameters:\n",
    "    arr (List[int]): The sorted list to search in.\n",
    "    condition (Callable[[int], bool]): A function that returns True or False.\n",
    "\n",
    "    Returns:\n",
    "    int: The index of the first element that satisfies the condition, or -1 if none.\n",
    "    \"\"\"\n",
    "    left = 0\n",
    "    right = len(arr) - 1\n",
    "    result = -1\n",
    "\n",
    "    while left <= right:\n",
    "        mid = (left + right) // 2\n",
    "        if condition(arr[mid]):\n",
    "            result = mid         # Found a valid candidate\n",
    "            right = mid - 1      # But look left for earlier one\n",
    "        else:\n",
    "            left = mid + 1       # Look right\n",
    "\n",
    "    return result\n",
    "\n",
    "# -----------------------------\n",
    "# Example Usage of Traditional Binary Search:\n",
    "# -----------------------------\n",
    "numbers = [1, 3, 5, 7, 9, 11, 13, 15]\n",
    "target = 7\n",
    "index = binary_search(numbers, target)\n",
    "if index != -1:\n",
    "    print(f\"Target {target} found at index {index}.\")\n",
    "else:\n",
    "    print(f\"Target {target} not found in the list.\")\n",
    "\n",
    "# -----------------------------\n",
    "# Example Usage of Conditional-Based Binary Search:\n",
    "# -----------------------------\n",
    "# Find the first number >= 10\n",
    "condition = lambda x: x >= 10\n",
    "index = conditional_binary_search(numbers, condition)\n",
    "if index != -1:\n",
    "    print(f\"First number >= 10 is {numbers[index]} at index {index}.\")\n",
    "else:\n",
    "    print(\"No number satisfies the condition.\")\n",
    "\n",
    "# -----------------------------\n",
    "# Summary:\n",
    "# -----------------------------\n",
    "# Traditional Binary Search:\n",
    "# - Searches for exact target value in sorted list.\n",
    "# - Returns the index of target or -1.\n",
    "\n",
    "# Conditional-Based Binary Search:\n",
    "# - Finds boundary based on a condition (first/last index where condition holds).\n",
    "# - Useful for range problems, thresholds, peak finding, etc.\n"
   ]
  },
  {
   "cell_type": "markdown",
   "id": "9aaf7df5",
   "metadata": {},
   "source": [
    "## Greg Hogg"
   ]
  },
  {
   "cell_type": "code",
   "execution_count": 3,
   "id": "51d91da7",
   "metadata": {},
   "outputs": [],
   "source": [
    "A = [-3, -1, 0, 1, 4, 7]\n",
    "\n",
    "# Naive O(n) searching\n",
    "if 8 in A:\n",
    "  print(True)"
   ]
  },
  {
   "cell_type": "code",
   "execution_count": 4,
   "id": "d53048a6",
   "metadata": {},
   "outputs": [
    {
     "data": {
      "text/plain": [
       "False"
      ]
     },
     "execution_count": 4,
     "metadata": {},
     "output_type": "execute_result"
    }
   ],
   "source": [
    "# Traditional Binary Search - Looking up if number is in array:\n",
    "# Time: O(log n)\n",
    "# Space: O(1)\n",
    "\n",
    "def binary_search(arr, target):\n",
    "  N = len(arr)\n",
    "  L = 0\n",
    "  R = N - 1\n",
    "\n",
    "  while L <= R:\n",
    "    M = L + ((R-L) // 2)\n",
    "\n",
    "    if arr[M] == target:\n",
    "      return True\n",
    "    elif target < arr[M]:\n",
    "      R = M - 1\n",
    "    else:\n",
    "      L = M + 1\n",
    "\n",
    "  return False\n",
    "\n",
    "binary_search(A, 8)"
   ]
  },
  {
   "cell_type": "code",
   "execution_count": 5,
   "id": "9ba148ea",
   "metadata": {},
   "outputs": [
    {
     "data": {
      "text/plain": [
       "4"
      ]
     },
     "execution_count": 5,
     "metadata": {},
     "output_type": "execute_result"
    }
   ],
   "source": [
    "# Condition based\n",
    "B = [False, False, False, False, True]\n",
    "\n",
    "def binary_search_condition(arr):\n",
    "  N = len(arr)\n",
    "  L = 0\n",
    "  R = N - 1\n",
    "\n",
    "  while L < R:\n",
    "    M = (L + R) // 2\n",
    "\n",
    "    if arr[M]:\n",
    "      R = M\n",
    "    else:\n",
    "      L = M + 1\n",
    "\n",
    "  return L\n",
    "\n",
    "binary_search_condition(B)"
   ]
  },
  {
   "cell_type": "code",
   "execution_count": 6,
   "id": "353c2994",
   "metadata": {},
   "outputs": [
    {
     "name": "stdout",
     "output_type": "stream",
     "text": [
      "The guessed number is: 2\n"
     ]
    }
   ],
   "source": [
    "# Range-Based\n",
    "\n",
    "def guess_number(target, L, R):\n",
    "    while L <= R:\n",
    "        M = (L + R) // 2\n",
    "        if M == target:\n",
    "            return M  # Found the number\n",
    "        elif M < target:\n",
    "            L = M + 1\n",
    "        else:\n",
    "            R = M - 1\n",
    "    return -1  # Target not found\n",
    "\n",
    "\n",
    "target = 2\n",
    "result = guess_number(target, 1, 100)\n",
    "print(f\"The guessed number is: {result}\")"
   ]
  },
  {
   "cell_type": "code",
   "execution_count": null,
   "id": "83732f10",
   "metadata": {},
   "outputs": [],
   "source": []
  }
 ],
 "metadata": {
  "kernelspec": {
   "display_name": "Python 3",
   "language": "python",
   "name": "python3"
  },
  "language_info": {
   "codemirror_mode": {
    "name": "ipython",
    "version": 3
   },
   "file_extension": ".py",
   "mimetype": "text/x-python",
   "name": "python",
   "nbconvert_exporter": "python",
   "pygments_lexer": "ipython3",
   "version": "3.11.9"
  }
 },
 "nbformat": 4,
 "nbformat_minor": 5
}
