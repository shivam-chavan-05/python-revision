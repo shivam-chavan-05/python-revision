{
 "cells": [
  {
   "cell_type": "code",
   "execution_count": 1,
   "id": "184a5a33",
   "metadata": {},
   "outputs": [
    {
     "name": "stdout",
     "output_type": "stream",
     "text": [
      "Hello world!\n"
     ]
    }
   ],
   "source": [
    "print (\"Hello world!\")"
   ]
  },
  {
   "cell_type": "code",
   "execution_count": 2,
   "id": "c7dfe658",
   "metadata": {},
   "outputs": [
    {
     "data": {
      "text/plain": [
       "'hello world!'"
      ]
     },
     "execution_count": 2,
     "metadata": {},
     "output_type": "execute_result"
    }
   ],
   "source": [
    "'Hello'\n",
    "\n",
    "'hello world!'"
   ]
  },
  {
   "cell_type": "code",
   "execution_count": 3,
   "id": "a86cdc23",
   "metadata": {},
   "outputs": [
    {
     "data": {
      "text/plain": [
       "str"
      ]
     },
     "execution_count": 3,
     "metadata": {},
     "output_type": "execute_result"
    }
   ],
   "source": [
    "type('Hello')"
   ]
  },
  {
   "cell_type": "code",
   "execution_count": 6,
   "id": "50f2222a",
   "metadata": {},
   "outputs": [
    {
     "data": {
      "text/plain": [
       "'2345'"
      ]
     },
     "execution_count": 6,
     "metadata": {},
     "output_type": "execute_result"
    }
   ],
   "source": [
    "\"23\" + \"45\""
   ]
  },
  {
   "cell_type": "code",
   "execution_count": 7,
   "id": "3311d07b",
   "metadata": {},
   "outputs": [
    {
     "data": {
      "text/plain": [
       "68"
      ]
     },
     "execution_count": 7,
     "metadata": {},
     "output_type": "execute_result"
    }
   ],
   "source": [
    "23 + 45"
   ]
  },
  {
   "cell_type": "code",
   "execution_count": 8,
   "id": "ca981a72",
   "metadata": {},
   "outputs": [
    {
     "data": {
      "text/plain": [
       "'hello world'"
      ]
     },
     "execution_count": 8,
     "metadata": {},
     "output_type": "execute_result"
    }
   ],
   "source": [
    "\"hello\" + \" world\""
   ]
  },
  {
   "cell_type": "code",
   "execution_count": null,
   "id": "6a8be6f2",
   "metadata": {},
   "outputs": [],
   "source": [
    "# Errors Type Errors, Syntax Errors, Name Errors, Indentation Errors"
   ]
  },
  {
   "cell_type": "code",
   "execution_count": 12,
   "id": "ba9e40d9",
   "metadata": {},
   "outputs": [
    {
     "data": {
      "text/plain": [
       "2.5"
      ]
     },
     "execution_count": 12,
     "metadata": {},
     "output_type": "execute_result"
    }
   ],
   "source": [
    "5 / 2"
   ]
  },
  {
   "cell_type": "code",
   "execution_count": 10,
   "id": "daadd1f3",
   "metadata": {},
   "outputs": [
    {
     "data": {
      "text/plain": [
       "2"
      ]
     },
     "execution_count": 10,
     "metadata": {},
     "output_type": "execute_result"
    }
   ],
   "source": [
    "5 // 2"
   ]
  },
  {
   "cell_type": "code",
   "execution_count": 11,
   "id": "3c7ca7c1",
   "metadata": {},
   "outputs": [
    {
     "data": {
      "text/plain": [
       "1"
      ]
     },
     "execution_count": 11,
     "metadata": {},
     "output_type": "execute_result"
    }
   ],
   "source": [
    "5 % 2"
   ]
  },
  {
   "cell_type": "code",
   "execution_count": null,
   "id": "206ab62d",
   "metadata": {},
   "outputs": [
    {
     "data": {
      "text/plain": [
       "125"
      ]
     },
     "execution_count": 13,
     "metadata": {},
     "output_type": "execute_result"
    }
   ],
   "source": [
    "5 ** 3 # Exponentiation 5 * 5 * 5"
   ]
  },
  {
   "cell_type": "code",
   "execution_count": 14,
   "id": "41ad9e9a",
   "metadata": {},
   "outputs": [
    {
     "data": {
      "text/plain": [
       "False"
      ]
     },
     "execution_count": 14,
     "metadata": {},
     "output_type": "execute_result"
    }
   ],
   "source": [
    "not True"
   ]
  },
  {
   "cell_type": "code",
   "execution_count": 15,
   "id": "6eab5387",
   "metadata": {},
   "outputs": [
    {
     "data": {
      "text/plain": [
       "True"
      ]
     },
     "execution_count": 15,
     "metadata": {},
     "output_type": "execute_result"
    }
   ],
   "source": [
    "not False"
   ]
  },
  {
   "cell_type": "code",
   "execution_count": 16,
   "id": "7d256eed",
   "metadata": {},
   "outputs": [
    {
     "data": {
      "text/plain": [
       "True"
      ]
     },
     "execution_count": 16,
     "metadata": {},
     "output_type": "execute_result"
    }
   ],
   "source": [
    "2 != 3"
   ]
  },
  {
   "cell_type": "code",
   "execution_count": 17,
   "id": "4428f9e7",
   "metadata": {},
   "outputs": [
    {
     "name": "stdout",
     "output_type": "stream",
     "text": [
      "This is true\n"
     ]
    }
   ],
   "source": [
    "if True:\n",
    "    print(\"This is true\")"
   ]
  },
  {
   "cell_type": "code",
   "execution_count": 18,
   "id": "5034194c",
   "metadata": {},
   "outputs": [],
   "source": [
    "if False:\n",
    "    print(\"This is true\")"
   ]
  },
  {
   "cell_type": "code",
   "execution_count": 19,
   "id": "05e7ad20",
   "metadata": {},
   "outputs": [
    {
     "data": {
      "text/plain": [
       "['apples', 'bananas', 'oranges']"
      ]
     },
     "execution_count": 19,
     "metadata": {},
     "output_type": "execute_result"
    }
   ],
   "source": [
    "grocery_list = ['apples', 'bananas', 'oranges']\n",
    "grocery_list"
   ]
  },
  {
   "cell_type": "code",
   "execution_count": 20,
   "id": "8116cd58",
   "metadata": {},
   "outputs": [
    {
     "data": {
      "text/plain": [
       "['apples', 'bananas', 'oranges', 'grapes']"
      ]
     },
     "execution_count": 20,
     "metadata": {},
     "output_type": "execute_result"
    }
   ],
   "source": [
    "grocery_list.append('grapes')\n",
    "grocery_list"
   ]
  },
  {
   "cell_type": "code",
   "execution_count": 21,
   "id": "0df69883",
   "metadata": {},
   "outputs": [
    {
     "name": "stdout",
     "output_type": "stream",
     "text": [
      "apples\n",
      "bananas\n",
      "oranges\n",
      "grapes\n"
     ]
    }
   ],
   "source": [
    "for item in grocery_list:\n",
    "    print(item)"
   ]
  },
  {
   "cell_type": "code",
   "execution_count": 23,
   "id": "d2f7ba8e",
   "metadata": {},
   "outputs": [
    {
     "data": {
      "text/plain": [
       "'bananas'"
      ]
     },
     "execution_count": 23,
     "metadata": {},
     "output_type": "execute_result"
    }
   ],
   "source": [
    "grocery_list[1] "
   ]
  },
  {
   "cell_type": "code",
   "execution_count": 27,
   "id": "c1f34452",
   "metadata": {},
   "outputs": [
    {
     "name": "stdout",
     "output_type": "stream",
     "text": [
      "apples\n",
      "bananas\n",
      "oranges\n",
      "grapes\n"
     ]
    }
   ],
   "source": [
    "for i in [0, 1, 2, 3]:\n",
    "    print(grocery_list[i])"
   ]
  },
  {
   "cell_type": "code",
   "execution_count": 29,
   "id": "527dac70",
   "metadata": {},
   "outputs": [
    {
     "name": "stdout",
     "output_type": "stream",
     "text": [
      "apples\n",
      "bananas\n",
      "oranges\n",
      "grapes\n"
     ]
    }
   ],
   "source": [
    "for i in range(4):\n",
    "    print(grocery_list[i])"
   ]
  },
  {
   "cell_type": "code",
   "execution_count": 30,
   "id": "0ee491ba",
   "metadata": {},
   "outputs": [
    {
     "data": {
      "text/plain": [
       "4"
      ]
     },
     "execution_count": 30,
     "metadata": {},
     "output_type": "execute_result"
    }
   ],
   "source": [
    "len(grocery_list)"
   ]
  },
  {
   "cell_type": "code",
   "execution_count": 31,
   "id": "7b4c53a9",
   "metadata": {},
   "outputs": [
    {
     "name": "stdout",
     "output_type": "stream",
     "text": [
      "0 apples\n",
      "1 bananas\n",
      "2 oranges\n",
      "3 grapes\n"
     ]
    }
   ],
   "source": [
    "for i, item in enumerate(grocery_list):\n",
    "    print(i, item)"
   ]
  },
  {
   "cell_type": "code",
   "execution_count": 32,
   "id": "633ff620",
   "metadata": {},
   "outputs": [
    {
     "name": "stdout",
     "output_type": "stream",
     "text": [
      "grapes\n",
      "oranges\n",
      "bananas\n",
      "apples\n"
     ]
    }
   ],
   "source": [
    "j = len(grocery_list) - 1\n",
    "while j >= 0:\n",
    "    print(grocery_list[j])\n",
    "    j -= 1"
   ]
  },
  {
   "cell_type": "code",
   "execution_count": 33,
   "id": "67c08ddb",
   "metadata": {},
   "outputs": [
    {
     "name": "stdout",
     "output_type": "stream",
     "text": [
      "This will run\n"
     ]
    }
   ],
   "source": [
    "if False:\n",
    "    print(\"This won't run\")\n",
    "elif False:\n",
    "    print(\"This won't run either\")\n",
    "else:\n",
    "    print(\"This will run\")"
   ]
  },
  {
   "cell_type": "code",
   "execution_count": 37,
   "id": "cd8675c9",
   "metadata": {},
   "outputs": [
    {
     "name": "stdout",
     "output_type": "stream",
     "text": [
      "Hello from our_print function!\n",
      "87\n"
     ]
    }
   ],
   "source": [
    "# Functions\n",
    "\n",
    "def our_print(s):\n",
    "    print(s)\n",
    "    print(z)\n",
    "\n",
    "our_print(\"Hello from our_print function!\")"
   ]
  },
  {
   "cell_type": "code",
   "execution_count": 36,
   "id": "a5b52d0b",
   "metadata": {},
   "outputs": [],
   "source": [
    "z = 87"
   ]
  },
  {
   "cell_type": "code",
   "execution_count": 38,
   "id": "f716036c",
   "metadata": {},
   "outputs": [
    {
     "data": {
      "text/plain": [
       "10"
      ]
     },
     "execution_count": 38,
     "metadata": {},
     "output_type": "execute_result"
    }
   ],
   "source": [
    "def times_2(x):\n",
    "    return x * 2\n",
    "\n",
    "times_2(5)"
   ]
  },
  {
   "cell_type": "code",
   "execution_count": null,
   "id": "9b928d57",
   "metadata": {},
   "outputs": [],
   "source": [
    "# Side Effects - when something happens outside the function that is effected by the function"
   ]
  },
  {
   "cell_type": "code",
   "execution_count": 40,
   "id": "c796cff1",
   "metadata": {},
   "outputs": [
    {
     "name": "stdout",
     "output_type": "stream",
     "text": [
      "True\n",
      "True\n",
      "True\n",
      "False\n"
     ]
    }
   ],
   "source": [
    "# is checks whether two variables point to the same object in memory (i.e., identity), not just equality in value.\n",
    "\n",
    "a = [1, 2, 3]\n",
    "b = a         # both point to the same list\n",
    "c = [1, 2, 3]  # different list with same contents\n",
    "\n",
    "print(a == b)  # True (values are equal)\n",
    "print(a is b)  # True (same memory address)\n",
    "\n",
    "print(a == c)  # True (values are equal)\n",
    "print(a is c)  # False (different memory address)\n"
   ]
  },
  {
   "cell_type": "code",
   "execution_count": 42,
   "id": "bb970101",
   "metadata": {},
   "outputs": [
    {
     "name": "stdout",
     "output_type": "stream",
     "text": [
      "[[99, 2], [3, 4]]\n",
      "[[1, 2], [3, 4]]\n"
     ]
    }
   ],
   "source": [
    "from copy import deepcopy\n",
    "\n",
    "original = [[1, 2], [3, 4]]\n",
    "deep = deepcopy(original)\n",
    "\n",
    "original[0][0] = 99\n",
    "\n",
    "print(original)  # [[99, 2], [3, 4]] → affected!\n",
    "print(deep)      # [[1, 2], [3, 4]] → not affected!"
   ]
  },
  {
   "cell_type": "code",
   "execution_count": 43,
   "id": "da4ebadd",
   "metadata": {},
   "outputs": [
    {
     "name": "stdout",
     "output_type": "stream",
     "text": [
      "Inside function: x is y? True\n"
     ]
    }
   ],
   "source": [
    "def check_identity(x):\n",
    "    print(\"Inside function: x is y?\", x is y)\n",
    "\n",
    "y = [10, 20]\n",
    "check_identity(y)"
   ]
  },
  {
   "cell_type": "code",
   "execution_count": 44,
   "id": "39e766a6",
   "metadata": {},
   "outputs": [],
   "source": [
    "# When you do x = 5 and y = x, both x and y point to the same immutable integer 5. But when you later do x = 6, you're not modifying the original value — you're just making x point to a new integer 6. \n",
    "# Since integers are immutable, any \"change\" creates a new object, leaving y still pointing to 5.\n",
    "\n",
    "# In contrast, lists like a = [0,1,2] are mutable. When you assign b = a, both a and b point to the same list object in memory. So if you do b[0] = 44, you're modifying the contents of the shared list, \n",
    "# and the change is reflected in both a and b."
   ]
  },
  {
   "cell_type": "code",
   "execution_count": 45,
   "id": "c9058d72",
   "metadata": {},
   "outputs": [
    {
     "name": "stdout",
     "output_type": "stream",
     "text": [
      "6\n",
      "5\n",
      "[44, 1, 2]\n",
      "[44, 1, 2]\n"
     ]
    }
   ],
   "source": [
    "# Immutable case\n",
    "x = 5\n",
    "y = x\n",
    "x = 6\n",
    "print(x)  # 6\n",
    "print(y)  # 5  → y is not affected\n",
    "\n",
    "# Mutable case\n",
    "a = [0, 1, 2]\n",
    "b = a\n",
    "b[0] = 44\n",
    "print(a)  # [44, 1, 2] → a is changed\n",
    "print(b)  # [44, 1, 2] → same list as a"
   ]
  },
  {
   "cell_type": "code",
   "execution_count": 50,
   "id": "aaa8ca47",
   "metadata": {},
   "outputs": [
    {
     "name": "stdout",
     "output_type": "stream",
     "text": [
      "5\n",
      "7\n",
      "6\n",
      "12\n"
     ]
    }
   ],
   "source": [
    "def add(x, y = 3):\n",
    "    return x + y\n",
    "\n",
    "print(add(2))\n",
    "print(add(2, 5))  # y is overridden\n",
    "print(add(x=3))\n",
    "print(add(y = 9, x=3))"
   ]
  },
  {
   "cell_type": "code",
   "execution_count": 51,
   "id": "502db62f",
   "metadata": {},
   "outputs": [],
   "source": [
    "# File input and output\n",
    "# Read\n"
   ]
  },
  {
   "cell_type": "code",
   "execution_count": null,
   "id": "85570263",
   "metadata": {},
   "outputs": [
    {
     "name": "stdout",
     "output_type": "stream",
     "text": [
      "['Hello there\\n', '42\\n', '35\\n', '76\\n', 'this, is, a, string']\n"
     ]
    }
   ],
   "source": [
    "p = 'a_test.txt'\n",
    "with open(p, 'r') as f:\n",
    "    print(f.readlines()) #list of lines"
   ]
  },
  {
   "cell_type": "code",
   "execution_count": 54,
   "id": "2cc92022",
   "metadata": {},
   "outputs": [
    {
     "name": "stdout",
     "output_type": "stream",
     "text": [
      "Hello there\n",
      "42\n",
      "35\n",
      "76\n",
      "this, is, a, string\n"
     ]
    }
   ],
   "source": [
    "with open(p, 'r') as f:\n",
    "    print(f.read())"
   ]
  },
  {
   "cell_type": "code",
   "execution_count": 55,
   "id": "4811b3a8",
   "metadata": {},
   "outputs": [
    {
     "name": "stdout",
     "output_type": "stream",
     "text": [
      "Hello there\n",
      "42\n",
      "35\n",
      "76\n",
      "this, is, a, string\n"
     ]
    }
   ],
   "source": [
    "with open(p, 'r') as f:\n",
    "    for line in f:\n",
    "        print(line.strip())  # strip removes the newline character at the end of each line"
   ]
  },
  {
   "cell_type": "code",
   "execution_count": 56,
   "id": "7277e1e7",
   "metadata": {},
   "outputs": [
    {
     "name": "stdout",
     "output_type": "stream",
     "text": [
      "Hello there\n",
      "\n",
      "42\n",
      "\n",
      "35\n",
      "\n",
      "76\n",
      "\n",
      "this, is, a, string\n"
     ]
    }
   ],
   "source": [
    "with open(p, 'r') as f:\n",
    "    for line in f:\n",
    "        print(line) "
   ]
  },
  {
   "cell_type": "code",
   "execution_count": 57,
   "id": "df475bec",
   "metadata": {},
   "outputs": [],
   "source": [
    "with open('new_file.txt', 'w') as f:\n",
    "    f.write(\"This is a new file.\")"
   ]
  },
  {
   "cell_type": "code",
   "execution_count": 59,
   "id": "e230a05e",
   "metadata": {},
   "outputs": [],
   "source": [
    "with open('new_file.txt', 'a') as f: # 'w' - write, 'a' - append\n",
    "    f.write(\"Hello again!\\n\")"
   ]
  },
  {
   "cell_type": "code",
   "execution_count": null,
   "id": "4d9fc9b9",
   "metadata": {},
   "outputs": [],
   "source": [
    "# In Python, a class is a blueprint for creating objects, and each object is an instance of that class.\n",
    "# The __init__ method is called automatically when we create a new object; it initializes object attributes.\n",
    "# The self keyword refers to the current object and is used to access instance variables and methods.\n",
    "# The __str__ method defines how the object should be displayed when printed, returning a readable string.\n",
    "# We can also define custom functions inside a class to perform actions using the object’s data.\n",
    "# For example, a 'Book' class can have a title and author, and a custom 'read()' method to describe reading it."
   ]
  },
  {
   "cell_type": "code",
   "execution_count": 68,
   "id": "837110b0",
   "metadata": {},
   "outputs": [
    {
     "name": "stdout",
     "output_type": "stream",
     "text": [
      "'Atomic Habits' by James Clear\n",
      "You are reading Atomic Habits by James Clear.\n"
     ]
    }
   ],
   "source": [
    "class Book:\n",
    "    ''' A class representing a book with a title and an author. '''\n",
    "    def __init__(self, title, author):\n",
    "        self.title = title\n",
    "        self.author = author\n",
    "\n",
    "    def __str__(self):\n",
    "        return f\"'{self.title}' by {self.author}\"\n",
    "\n",
    "    def read(self):\n",
    "        ''' Simulates reading the book by printing a message. ''' # Docstring\n",
    "        print(f\"You are reading {self.title} by {self.author}.\")\n",
    "\n",
    "# Create an object\n",
    "my_book = Book(\"Atomic Habits\", \"James Clear\")\n",
    "\n",
    "# Use methods\n",
    "print(my_book)    # Output: 'Atomic Habits' by James Clear\n",
    "my_book.read()    # Output: You are reading Atomic Habits by James Clear.\n"
   ]
  },
  {
   "cell_type": "code",
   "execution_count": 61,
   "id": "5501b3c4",
   "metadata": {},
   "outputs": [
    {
     "name": "stdout",
     "output_type": "stream",
     "text": [
      "Help on built-in function print in module builtins:\n",
      "\n",
      "print(*args, sep=' ', end='\\n', file=None, flush=False)\n",
      "    Prints the values to a stream, or to sys.stdout by default.\n",
      "    \n",
      "    sep\n",
      "      string inserted between values, default a space.\n",
      "    end\n",
      "      string appended after the last value, default a newline.\n",
      "    file\n",
      "      a file-like object (stream); defaults to the current sys.stdout.\n",
      "    flush\n",
      "      whether to forcibly flush the stream.\n",
      "\n"
     ]
    }
   ],
   "source": [
    "help(print)"
   ]
  },
  {
   "cell_type": "code",
   "execution_count": 67,
   "id": "4bbe3e54",
   "metadata": {},
   "outputs": [
    {
     "name": "stdout",
     "output_type": "stream",
     "text": [
      "Help on function read in module __main__:\n",
      "\n",
      "read(self)\n",
      "    Simulates reading the book by printing a message.\n",
      "\n"
     ]
    }
   ],
   "source": [
    "help(Book.read)"
   ]
  },
  {
   "cell_type": "code",
   "execution_count": 69,
   "id": "d9cf2bd8",
   "metadata": {},
   "outputs": [
    {
     "name": "stdout",
     "output_type": "stream",
     "text": [
      "Help on class Book in module __main__:\n",
      "\n",
      "class Book(builtins.object)\n",
      " |  Book(title, author)\n",
      " |  \n",
      " |  A class representing a book with a title and an author.\n",
      " |  \n",
      " |  Methods defined here:\n",
      " |  \n",
      " |  __init__(self, title, author)\n",
      " |      Initialize self.  See help(type(self)) for accurate signature.\n",
      " |  \n",
      " |  __str__(self)\n",
      " |      Return str(self).\n",
      " |  \n",
      " |  read(self)\n",
      " |      Simulates reading the book by printing a message.\n",
      " |  \n",
      " |  ----------------------------------------------------------------------\n",
      " |  Data descriptors defined here:\n",
      " |  \n",
      " |  __dict__\n",
      " |      dictionary for instance variables\n",
      " |  \n",
      " |  __weakref__\n",
      " |      list of weak references to the object\n",
      "\n"
     ]
    }
   ],
   "source": [
    "help(Book)"
   ]
  },
  {
   "cell_type": "code",
   "execution_count": 73,
   "id": "cae83c29",
   "metadata": {},
   "outputs": [
    {
     "data": {
      "text/plain": [
       "[1, 2, 3, 4, 5, 6]"
      ]
     },
     "execution_count": 73,
     "metadata": {},
     "output_type": "execute_result"
    }
   ],
   "source": [
    "l = [1, 2, 3, 4, 5]\n",
    "l.append(6)  # Adds 6 to the end of the list\n",
    "l"
   ]
  },
  {
   "cell_type": "code",
   "execution_count": 74,
   "id": "5ad4f772",
   "metadata": {},
   "outputs": [
    {
     "data": {
      "text/plain": [
       "[1, 2, 99, 3, 4, 5, 6]"
      ]
     },
     "execution_count": 74,
     "metadata": {},
     "output_type": "execute_result"
    }
   ],
   "source": [
    "l.insert(2, 99)  # Inserts 99 at index 2\n",
    "l"
   ]
  },
  {
   "cell_type": "code",
   "execution_count": 75,
   "id": "ed85a3dd",
   "metadata": {},
   "outputs": [
    {
     "data": {
      "text/plain": [
       "2"
      ]
     },
     "execution_count": 75,
     "metadata": {},
     "output_type": "execute_result"
    }
   ],
   "source": [
    "l.append(6)\n",
    "l.count(6)  # Counts how many times 6 appears in the list"
   ]
  },
  {
   "cell_type": "code",
   "execution_count": 76,
   "id": "b263c33b",
   "metadata": {},
   "outputs": [
    {
     "data": {
      "text/plain": [
       "[6, 6, 5, 4, 3, 99, 2, 1]"
      ]
     },
     "execution_count": 76,
     "metadata": {},
     "output_type": "execute_result"
    }
   ],
   "source": [
    "l.reverse()  # Reverses the list in place\n",
    "l"
   ]
  },
  {
   "cell_type": "code",
   "execution_count": 77,
   "id": "e2b93cc6",
   "metadata": {},
   "outputs": [
    {
     "data": {
      "text/plain": [
       "[6, 6, 5, 4, 3, 99, 1]"
      ]
     },
     "execution_count": 77,
     "metadata": {},
     "output_type": "execute_result"
    }
   ],
   "source": [
    "l.remove(2)  # Removes the first occurrence of 2 from the list\n",
    "l"
   ]
  },
  {
   "cell_type": "code",
   "execution_count": 81,
   "id": "6a61cfe3",
   "metadata": {},
   "outputs": [
    {
     "data": {
      "text/plain": [
       "[0, 2, 2, 2, 4, 4, 4, 6]"
      ]
     },
     "execution_count": 81,
     "metadata": {},
     "output_type": "execute_result"
    }
   ],
   "source": [
    "l = []\n",
    "for i in range(5):\n",
    "    for j in range(3):\n",
    "        if (i + j) % 2 == 0:\n",
    "            l.append((i + j))\n",
    "\n",
    "l"
   ]
  },
  {
   "cell_type": "code",
   "execution_count": 84,
   "id": "1c966feb",
   "metadata": {},
   "outputs": [
    {
     "data": {
      "text/plain": [
       "{'Apple': \"It's high in vitamin C\",\n",
       " 'Banana': \"It's high in potassium\",\n",
       " 'Orange': \"It's high in fiber\"}"
      ]
     },
     "execution_count": 84,
     "metadata": {},
     "output_type": "execute_result"
    }
   ],
   "source": [
    "# Dictionaries - Key-Value Pairs: A dictionary is a collection which is unordered, changeable and indexed. In Python dictionaries are written with curly brackets, and they have keys and values.\n",
    "\n",
    "d = {'Apple': \"It's high in vitamin C\", \n",
    "     'Banana': \"It's high in potassium\",\n",
    "     'Orange': \"It's high in fiber\"}\n",
    "d"
   ]
  },
  {
   "cell_type": "code",
   "execution_count": 83,
   "id": "146c8740",
   "metadata": {},
   "outputs": [
    {
     "data": {
      "text/plain": [
       "\"It's high in vitamin C\""
      ]
     },
     "execution_count": 83,
     "metadata": {},
     "output_type": "execute_result"
    }
   ],
   "source": [
    "d['Apple']  # Accessing the value for the key 'Apple'"
   ]
  },
  {
   "cell_type": "code",
   "execution_count": 85,
   "id": "92508691",
   "metadata": {},
   "outputs": [
    {
     "data": {
      "text/plain": [
       "\"It's high in potassium\""
      ]
     },
     "execution_count": 85,
     "metadata": {},
     "output_type": "execute_result"
    }
   ],
   "source": [
    "d['Banana']"
   ]
  },
  {
   "cell_type": "code",
   "execution_count": 86,
   "id": "b09d67b0",
   "metadata": {},
   "outputs": [
    {
     "data": {
      "text/plain": [
       "{'Apple': \"It's high in vitamin C\",\n",
       " 'Banana': \"It's a great source of energy\",\n",
       " 'Orange': \"It's high in fiber\"}"
      ]
     },
     "execution_count": 86,
     "metadata": {},
     "output_type": "execute_result"
    }
   ],
   "source": [
    "d['Banana'] = \"It's a great source of energy\"  # Modifying the value for the key 'Banana'\n",
    "d"
   ]
  },
  {
   "cell_type": "code",
   "execution_count": 87,
   "id": "8ed22754",
   "metadata": {},
   "outputs": [
    {
     "data": {
      "text/plain": [
       "{'Apple': \"It's high in vitamin C\", 'Banana': \"It's a great source of energy\"}"
      ]
     },
     "execution_count": 87,
     "metadata": {},
     "output_type": "execute_result"
    }
   ],
   "source": [
    "del d['Orange']  # Deleting the key 'Orange'\n",
    "d"
   ]
  },
  {
   "cell_type": "code",
   "execution_count": 88,
   "id": "0a9f47f3",
   "metadata": {},
   "outputs": [
    {
     "data": {
      "text/plain": [
       "{'Apple': \"It's high in vitamin C\",\n",
       " 'Banana': \"It's a great source of energy\",\n",
       " 'Cucumber': \"It's a refreshing vegetable\"}"
      ]
     },
     "execution_count": 88,
     "metadata": {},
     "output_type": "execute_result"
    }
   ],
   "source": [
    "d['Cucumber'] = \"It's a refreshing vegetable\"  # Adding a new key-value pair\n",
    "d"
   ]
  },
  {
   "cell_type": "code",
   "execution_count": 90,
   "id": "1087fceb",
   "metadata": {},
   "outputs": [
    {
     "name": "stdout",
     "output_type": "stream",
     "text": [
      "Apple\n",
      "It's high in vitamin C\n",
      "Banana\n",
      "It's a great source of energy\n",
      "Cucumber\n",
      "It's a refreshing vegetable\n"
     ]
    }
   ],
   "source": [
    "for k in d.keys():  # Iterating over the keys\n",
    "    print(k)\n",
    "    print(d[k])  # Accessing the value for each key"
   ]
  },
  {
   "cell_type": "code",
   "execution_count": 92,
   "id": "14c69e4c",
   "metadata": {},
   "outputs": [
    {
     "name": "stdout",
     "output_type": "stream",
     "text": [
      "Hello, Alice!\n"
     ]
    }
   ],
   "source": [
    "# f-Strings - Formatted String Literals: f-strings allow you to embed expressions inside string literals, using curly braces `{}`. They are prefixed with the letter `f` or `F`.\n",
    "\n",
    "name = \"Alice\"\n",
    "print(f\"Hello, {name}!\")  # Using an f-string to embed the variable name"
   ]
  },
  {
   "cell_type": "code",
   "execution_count": 93,
   "id": "d42202c3",
   "metadata": {},
   "outputs": [
    {
     "name": "stdout",
     "output_type": "stream",
     "text": [
      "Alice is 30 years old.\n"
     ]
    }
   ],
   "source": [
    "age = 30\n",
    "print(f\"{name} is {age} years old.\")  # Embedding multiple variables in an f-string"
   ]
  },
  {
   "cell_type": "code",
   "execution_count": 94,
   "id": "15edf997",
   "metadata": {},
   "outputs": [
    {
     "data": {
      "text/plain": [
       "'Hey Alice and 30'"
      ]
     },
     "execution_count": 94,
     "metadata": {},
     "output_type": "execute_result"
    }
   ],
   "source": [
    "\"Hey {0} and {1}\".format(name, age)  # Using the format method for string formatting"
   ]
  },
  {
   "cell_type": "code",
   "execution_count": 95,
   "id": "db5bd95f",
   "metadata": {},
   "outputs": [
    {
     "name": "stdout",
     "output_type": "stream",
     "text": [
      "Character: H\n",
      "Character: e\n",
      "Character: l\n",
      "Character: l\n",
      "Character: o\n"
     ]
    }
   ],
   "source": [
    "for c in \"Hello\":\n",
    "    print(f\"Character: {c}\")  # Using f-string inside a loop to print each character"
   ]
  },
  {
   "cell_type": "code",
   "execution_count": 96,
   "id": "35ae1ed6",
   "metadata": {},
   "outputs": [
    {
     "data": {
      "text/plain": [
       "['My', 'name', 'is', 'shiv']"
      ]
     },
     "execution_count": 96,
     "metadata": {},
     "output_type": "execute_result"
    }
   ],
   "source": [
    "\"My name is shiv\".split(\" \")  # Splitting a string into a list of words"
   ]
  },
  {
   "cell_type": "code",
   "execution_count": 97,
   "id": "1c7fcc76",
   "metadata": {},
   "outputs": [
    {
     "data": {
      "text/plain": [
       "False"
      ]
     },
     "execution_count": 97,
     "metadata": {},
     "output_type": "execute_result"
    }
   ],
   "source": [
    "\"greg\".isnumeric()"
   ]
  },
  {
   "cell_type": "code",
   "execution_count": 98,
   "id": "8145c814",
   "metadata": {},
   "outputs": [
    {
     "data": {
      "text/plain": [
       "'hello there'"
      ]
     },
     "execution_count": 98,
     "metadata": {},
     "output_type": "execute_result"
    }
   ],
   "source": [
    "\"HELLO there\".lower()  # Converting a string to lowercase"
   ]
  },
  {
   "cell_type": "code",
   "execution_count": 99,
   "id": "619bdd5a",
   "metadata": {},
   "outputs": [
    {
     "data": {
      "text/plain": [
       "'HELLO THERE'"
      ]
     },
     "execution_count": 99,
     "metadata": {},
     "output_type": "execute_result"
    }
   ],
   "source": [
    "\"HELLO there\".upper() "
   ]
  },
  {
   "cell_type": "code",
   "execution_count": 101,
   "id": "b91e59c4",
   "metadata": {},
   "outputs": [
    {
     "name": "stdout",
     "output_type": "stream",
     "text": [
      "H\n",
      "!\n"
     ]
    }
   ],
   "source": [
    "s = \"Hello, World!\"\n",
    "print(s[0])  # Accessing the first character\n",
    "print(s[-1])  # Accessing the last character"
   ]
  },
  {
   "cell_type": "code",
   "execution_count": 102,
   "id": "4b28db09",
   "metadata": {},
   "outputs": [
    {
     "data": {
      "text/plain": [
       "13"
      ]
     },
     "execution_count": 102,
     "metadata": {},
     "output_type": "execute_result"
    }
   ],
   "source": [
    "len(s)  # Getting the length of the string"
   ]
  },
  {
   "cell_type": "code",
   "execution_count": 103,
   "id": "9dd30e10",
   "metadata": {},
   "outputs": [
    {
     "name": "stdout",
     "output_type": "stream",
     "text": [
      "(1, 2, 3)\n"
     ]
    }
   ],
   "source": [
    "# Tuples - Immutable Sequences: A tuple is a collection which is ordered and unchangeable. In Python, tuples are written with round brackets.\n",
    "t = (1, 2, 3)  # Creating a tuple\n",
    "print(t)  # Output: (1, 2, 3)"
   ]
  },
  {
   "cell_type": "code",
   "execution_count": 104,
   "id": "e88095ba",
   "metadata": {},
   "outputs": [
    {
     "data": {
      "text/plain": [
       "[1, 2, 3]"
      ]
     },
     "execution_count": 104,
     "metadata": {},
     "output_type": "execute_result"
    }
   ],
   "source": [
    "sorted([3, 1, 2])  # Sorting a list"
   ]
  },
  {
   "cell_type": "code",
   "execution_count": 106,
   "id": "a16c8638",
   "metadata": {},
   "outputs": [
    {
     "name": "stdout",
     "output_type": "stream",
     "text": [
      "{1, 2, 3, 4, 5}\n"
     ]
    }
   ],
   "source": [
    "# Sets - Unordered Collections of Unique Elements: A set is a collection which is unordered, unchangeable, and unindexed. In Python, sets are written with curly brackets.\n",
    "s = {1, 2, 3, 4, 5, 5}  # Creating a set\n",
    "print(s)  # Output: {1, 2, 3, 4, 5}"
   ]
  },
  {
   "cell_type": "code",
   "execution_count": 107,
   "id": "aeb6a8b6",
   "metadata": {},
   "outputs": [
    {
     "data": {
      "text/plain": [
       "{' ', 'a', 'd', 'e', 'g', 'i', 'o', 'r', 's', 'u', 'y'}"
      ]
     },
     "execution_count": 107,
     "metadata": {},
     "output_type": "execute_result"
    }
   ],
   "source": [
    "set('greg is  a good guy')"
   ]
  },
  {
   "cell_type": "code",
   "execution_count": 108,
   "id": "da3bc5a9",
   "metadata": {},
   "outputs": [
    {
     "data": {
      "text/plain": [
       "set"
      ]
     },
     "execution_count": 108,
     "metadata": {},
     "output_type": "execute_result"
    }
   ],
   "source": [
    "a = set()\n",
    "type(a)  # Checking the type of a, which is a set"
   ]
  },
  {
   "cell_type": "code",
   "execution_count": 109,
   "id": "8d8e8f70",
   "metadata": {},
   "outputs": [
    {
     "data": {
      "text/plain": [
       "dict"
      ]
     },
     "execution_count": 109,
     "metadata": {},
     "output_type": "execute_result"
    }
   ],
   "source": [
    "a = {}\n",
    "type(a)  # Checking the type of a, which is a dictionary"
   ]
  },
  {
   "cell_type": "code",
   "execution_count": 110,
   "id": "07b259f7",
   "metadata": {},
   "outputs": [
    {
     "name": "stdout",
     "output_type": "stream",
     "text": [
      "TypeError: Cannot concatenate 'str' and 'int' objects.\n"
     ]
    }
   ],
   "source": [
    "# TypeErrors - Occur when an operation or function is applied to an object of inappropriate type.\n",
    "try:\n",
    "    result = 'Hello' + 5  # Trying to concatenate a string and an integer   \n",
    "except:\n",
    "    print(\"TypeError: Cannot concatenate 'str' and 'int' objects.\")"
   ]
  },
  {
   "cell_type": "code",
   "execution_count": 111,
   "id": "e54d97d3",
   "metadata": {},
   "outputs": [
    {
     "name": "stdout",
     "output_type": "stream",
     "text": [
      "TypeError: Cannot concatenate 'str' and 'float' objects.\n"
     ]
    }
   ],
   "source": [
    "try:\n",
    "    result = 'Hello' + 5.0  # Trying to concatenate a string and a float\n",
    "except TypeError:\n",
    "    print(\"TypeError: Cannot concatenate 'str' and 'float' objects.\")"
   ]
  },
  {
   "cell_type": "code",
   "execution_count": 112,
   "id": "f74a8f37",
   "metadata": {},
   "outputs": [
    {
     "ename": "TypeError",
     "evalue": "can only concatenate str (not \"float\") to str",
     "output_type": "error",
     "traceback": [
      "\u001b[1;31m---------------------------------------------------------------------------\u001b[0m",
      "\u001b[1;31mTypeError\u001b[0m                                 Traceback (most recent call last)",
      "Cell \u001b[1;32mIn[112], line 2\u001b[0m\n\u001b[0;32m      1\u001b[0m \u001b[38;5;28;01mtry\u001b[39;00m:\n\u001b[1;32m----> 2\u001b[0m     result \u001b[38;5;241m=\u001b[39m \u001b[38;5;124;43m'\u001b[39;49m\u001b[38;5;124;43mHello\u001b[39;49m\u001b[38;5;124;43m'\u001b[39;49m\u001b[43m \u001b[49m\u001b[38;5;241;43m+\u001b[39;49m\u001b[43m \u001b[49m\u001b[38;5;241;43m5.0\u001b[39;49m  \u001b[38;5;66;03m# Trying to concatenate a string and a float\u001b[39;00m\n\u001b[0;32m      3\u001b[0m \u001b[38;5;28;01mexcept\u001b[39;00m \u001b[38;5;167;01mSyntaxError\u001b[39;00m:\n\u001b[0;32m      4\u001b[0m     \u001b[38;5;28mprint\u001b[39m(\u001b[38;5;124m\"\u001b[39m\u001b[38;5;124mTypeError: Cannot concatenate \u001b[39m\u001b[38;5;124m'\u001b[39m\u001b[38;5;124mstr\u001b[39m\u001b[38;5;124m'\u001b[39m\u001b[38;5;124m and \u001b[39m\u001b[38;5;124m'\u001b[39m\u001b[38;5;124mfloat\u001b[39m\u001b[38;5;124m'\u001b[39m\u001b[38;5;124m objects.\u001b[39m\u001b[38;5;124m\"\u001b[39m)\n",
      "\u001b[1;31mTypeError\u001b[0m: can only concatenate str (not \"float\") to str"
     ]
    }
   ],
   "source": [
    "try:\n",
    "    result = 'Hello' + 5.0  # Trying to concatenate a string and a float\n",
    "except SyntaxError:\n",
    "    print(\"TypeError: Cannot concatenate 'str' and 'float' objects.\")"
   ]
  },
  {
   "cell_type": "code",
   "execution_count": 113,
   "id": "355ecf56",
   "metadata": {},
   "outputs": [],
   "source": [
    "result = input(\"Enter a number: \")  # Using input function to get user input"
   ]
  },
  {
   "cell_type": "code",
   "execution_count": 114,
   "id": "894be948",
   "metadata": {},
   "outputs": [
    {
     "data": {
      "text/plain": [
       "'4'"
      ]
     },
     "execution_count": 114,
     "metadata": {},
     "output_type": "execute_result"
    }
   ],
   "source": [
    "result"
   ]
  },
  {
   "cell_type": "code",
   "execution_count": 115,
   "id": "f6096a20",
   "metadata": {},
   "outputs": [
    {
     "data": {
      "text/plain": [
       "str"
      ]
     },
     "execution_count": 115,
     "metadata": {},
     "output_type": "execute_result"
    }
   ],
   "source": [
    "type(result)  # Checking the type of result, which is a string"
   ]
  },
  {
   "cell_type": "code",
   "execution_count": 116,
   "id": "b74c2862",
   "metadata": {},
   "outputs": [
    {
     "data": {
      "text/plain": [
       "True"
      ]
     },
     "execution_count": 116,
     "metadata": {},
     "output_type": "execute_result"
    }
   ],
   "source": [
    "result.isnumeric()  # Checking if the input is numeric"
   ]
  },
  {
   "cell_type": "code",
   "execution_count": 117,
   "id": "7adb11c6",
   "metadata": {},
   "outputs": [
    {
     "name": "stdout",
     "output_type": "stream",
     "text": [
      "[0, 1, 2, 3, 4, 5, 6, 7, 8, 9]\n"
     ]
    }
   ],
   "source": [
    "# List Comprehensions - A concise way to create lists in Python. It consists of brackets containing an expression followed by a for clause, and can also include an optional if clause.\n",
    "l = [x for x in range(10)]  # Creating a list of numbers from 0 to 9\n",
    "print(l)  # Output: [0, 1, 2, 3, 4, 5, 6, 7, 8, 9]\n"
   ]
  },
  {
   "cell_type": "code",
   "execution_count": 118,
   "id": "ce3fc58b",
   "metadata": {},
   "outputs": [
    {
     "name": "stdout",
     "output_type": "stream",
     "text": [
      "[0, 1, 4, 9, 16, 25, 36, 49, 64, 81]\n"
     ]
    }
   ],
   "source": [
    "l = [x**2 for x in range(10)] \n",
    "print(l)"
   ]
  },
  {
   "cell_type": "code",
   "execution_count": null,
   "id": "4e5fc089",
   "metadata": {},
   "outputs": [
    {
     "name": "stdout",
     "output_type": "stream",
     "text": [
      "[0, 2, 4, 6, 8]\n"
     ]
    }
   ],
   "source": [
    "l = [x for x in range(10) if (x%2) == 0]  # Creating a list of numbers from 0 to 9\n",
    "print(l) "
   ]
  },
  {
   "cell_type": "code",
   "execution_count": 120,
   "id": "b2e4c749",
   "metadata": {},
   "outputs": [
    {
     "name": "stdout",
     "output_type": "stream",
     "text": [
      "[0, 5, 2, 5, 4, 5, 6, 5, 8, 5]\n"
     ]
    }
   ],
   "source": [
    "l = [x if (x%2) == 0 else 5 for x in range(10) ]  # Creating a list of even numbers from 0 to 9\n",
    "print(l)"
   ]
  },
  {
   "cell_type": "code",
   "execution_count": 121,
   "id": "365b6d0d",
   "metadata": {},
   "outputs": [
    {
     "name": "stdout",
     "output_type": "stream",
     "text": [
      "[4, 5, 6, 12]\n"
     ]
    }
   ],
   "source": [
    "l = [x if (x%2) == 0 else 5 for x in [4, 1, 6, 12] ]  # Creating a list of even numbers from 0 to 9\n",
    "print(l)"
   ]
  },
  {
   "cell_type": "code",
   "execution_count": 122,
   "id": "b40d0975",
   "metadata": {},
   "outputs": [
    {
     "data": {
      "text/plain": [
       "[0, 0, 0, 0]"
      ]
     },
     "execution_count": 122,
     "metadata": {},
     "output_type": "execute_result"
    }
   ],
   "source": [
    "[0] * 4"
   ]
  },
  {
   "cell_type": "code",
   "execution_count": 123,
   "id": "71b0b6a4",
   "metadata": {},
   "outputs": [
    {
     "data": {
      "text/plain": [
       "[1, 2, 3, 4]"
      ]
     },
     "execution_count": 123,
     "metadata": {},
     "output_type": "execute_result"
    }
   ],
   "source": [
    "[1,2] + [3,4]"
   ]
  },
  {
   "cell_type": "code",
   "execution_count": 125,
   "id": "913a7a7b",
   "metadata": {},
   "outputs": [
    {
     "name": "stdout",
     "output_type": "stream",
     "text": [
      "0 4\n",
      "1 5\n",
      "2 6\n"
     ]
    }
   ],
   "source": [
    "for a, b in zip(range(3), range(4, 7)): #zip combines elements from two or more iterables (like lists) into pairs\n",
    "    print(a, b)  # Pairing elements from two lists"
   ]
  },
  {
   "cell_type": "code",
   "execution_count": 126,
   "id": "cae380b4",
   "metadata": {},
   "outputs": [
    {
     "data": {
      "text/plain": [
       "[(0, 4), (1, 5), (2, 6)]"
      ]
     },
     "execution_count": 126,
     "metadata": {},
     "output_type": "execute_result"
    }
   ],
   "source": [
    "[(a, b) for a, b in zip(range(3), range(4, 7))]  # Creating a list of tuples from two lists"
   ]
  },
  {
   "cell_type": "code",
   "execution_count": 127,
   "id": "3135a26a",
   "metadata": {},
   "outputs": [
    {
     "data": {
      "text/plain": [
       "{0: 4, 1: 5, 2: 6}"
      ]
     },
     "execution_count": 127,
     "metadata": {},
     "output_type": "execute_result"
    }
   ],
   "source": [
    "{a:b for a, b in zip(range(3), range(4, 7))} "
   ]
  },
  {
   "cell_type": "code",
   "execution_count": 130,
   "id": "05359a1d",
   "metadata": {},
   "outputs": [
    {
     "data": {
      "text/plain": [
       "65"
      ]
     },
     "execution_count": 130,
     "metadata": {},
     "output_type": "execute_result"
    }
   ],
   "source": [
    "# ASCII value of a character is the number that represents the character in the ASCII table.\n",
    "ord('A')  # Returns the ASCII value of 'A'\n"
   ]
  },
  {
   "cell_type": "code",
   "execution_count": 129,
   "id": "a6dfce6c",
   "metadata": {},
   "outputs": [
    {
     "data": {
      "text/plain": [
       "97"
      ]
     },
     "execution_count": 129,
     "metadata": {},
     "output_type": "execute_result"
    }
   ],
   "source": [
    "ord('a')  # Returns the ASCII value of 'a'"
   ]
  },
  {
   "cell_type": "code",
   "execution_count": 131,
   "id": "a587bfc5",
   "metadata": {},
   "outputs": [
    {
     "data": {
      "text/plain": [
       "'A'"
      ]
     },
     "execution_count": 131,
     "metadata": {},
     "output_type": "execute_result"
    }
   ],
   "source": [
    "chr(65)"
   ]
  },
  {
   "cell_type": "code",
   "execution_count": 132,
   "id": "c346661c",
   "metadata": {},
   "outputs": [
    {
     "data": {
      "text/plain": [
       "'a'"
      ]
     },
     "execution_count": 132,
     "metadata": {},
     "output_type": "execute_result"
    }
   ],
   "source": [
    "chr(97)"
   ]
  },
  {
   "cell_type": "code",
   "execution_count": 137,
   "id": "b7a5856e",
   "metadata": {},
   "outputs": [
    {
     "data": {
      "text/plain": [
       "{1: 'A',\n",
       " 2: 'B',\n",
       " 3: 'C',\n",
       " 4: 'D',\n",
       " 5: 'E',\n",
       " 6: 'F',\n",
       " 7: 'G',\n",
       " 8: 'H',\n",
       " 9: 'I',\n",
       " 10: 'J',\n",
       " 11: 'K',\n",
       " 12: 'L',\n",
       " 13: 'M',\n",
       " 14: 'N',\n",
       " 15: 'O',\n",
       " 16: 'P',\n",
       " 17: 'Q',\n",
       " 18: 'R',\n",
       " 19: 'S',\n",
       " 20: 'T',\n",
       " 21: 'U',\n",
       " 22: 'V',\n",
       " 23: 'W',\n",
       " 24: 'X',\n",
       " 25: 'Y',\n",
       " 26: 'Z'}"
      ]
     },
     "execution_count": 137,
     "metadata": {},
     "output_type": "execute_result"
    }
   ],
   "source": [
    "{a:chr(a + 64) for a in range(1,27)}  # Creating a dictionary from two lists"
   ]
  },
  {
   "cell_type": "code",
   "execution_count": null,
   "id": "9e795625",
   "metadata": {},
   "outputs": [],
   "source": [
    "# Module in python is a file containing Python code. It can define functions, classes, and variables that can be reused in other Python programs.\n",
    "import math  # Importing the math module"
   ]
  },
  {
   "cell_type": "code",
   "execution_count": null,
   "id": "2190bfaa",
   "metadata": {},
   "outputs": [],
   "source": [
    "# pip install requests  # Installing the requests module using pip\n",
    "import requests  # Importing the requests module\n",
    "!pip list  # Listing all installed packages\n",
    "!pip show requests  # Showing details of the requests module"
   ]
  },
  {
   "cell_type": "code",
   "execution_count": null,
   "id": "d51fc2a4",
   "metadata": {},
   "outputs": [],
   "source": [
    "!ls # Listing files in the current directory\n",
    "!python test.py  # Running a Python script named test.py"
   ]
  },
  {
   "cell_type": "code",
   "execution_count": 138,
   "id": "fd4d4704",
   "metadata": {},
   "outputs": [
    {
     "name": "stdout",
     "output_type": "stream",
     "text": [
      "5\n"
     ]
    }
   ],
   "source": [
    "# lambda functions - Anonymous functions defined with the lambda keyword. They can take any number of arguments but only have one expression.\n",
    "\n",
    "def add(x, y):\n",
    "    return x + y\n",
    "print(add(2, 3))  # Output: 5"
   ]
  },
  {
   "cell_type": "code",
   "execution_count": 139,
   "id": "50bba240",
   "metadata": {},
   "outputs": [
    {
     "name": "stdout",
     "output_type": "stream",
     "text": [
      "5\n"
     ]
    }
   ],
   "source": [
    "lambda_add = lambda x, y: x + y  # Defining a lambda function\n",
    "print(lambda_add(2, 3))  # Output: 5"
   ]
  },
  {
   "cell_type": "code",
   "execution_count": 140,
   "id": "1de760b5",
   "metadata": {},
   "outputs": [
    {
     "name": "stdout",
     "output_type": "stream",
     "text": [
      "5\n"
     ]
    }
   ],
   "source": [
    "print((lambda x, y: x + y)(2, 3))  # Calling a lambda function directly"
   ]
  },
  {
   "cell_type": "code",
   "execution_count": null,
   "id": "6fd6f13d",
   "metadata": {},
   "outputs": [],
   "source": []
  }
 ],
 "metadata": {
  "kernelspec": {
   "display_name": "Python 3",
   "language": "python",
   "name": "python3"
  },
  "language_info": {
   "codemirror_mode": {
    "name": "ipython",
    "version": 3
   },
   "file_extension": ".py",
   "mimetype": "text/x-python",
   "name": "python",
   "nbconvert_exporter": "python",
   "pygments_lexer": "ipython3",
   "version": "3.11.9"
  }
 },
 "nbformat": 4,
 "nbformat_minor": 5
}
