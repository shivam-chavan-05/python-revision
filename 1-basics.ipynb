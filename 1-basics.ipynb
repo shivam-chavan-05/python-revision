{
 "cells": [
  {
   "cell_type": "code",
   "execution_count": 1,
   "id": "184a5a33",
   "metadata": {},
   "outputs": [
    {
     "name": "stdout",
     "output_type": "stream",
     "text": [
      "Hello world!\n"
     ]
    }
   ],
   "source": [
    "print (\"Hello world!\")"
   ]
  },
  {
   "cell_type": "code",
   "execution_count": 2,
   "id": "c7dfe658",
   "metadata": {},
   "outputs": [
    {
     "data": {
      "text/plain": [
       "'hello world!'"
      ]
     },
     "execution_count": 2,
     "metadata": {},
     "output_type": "execute_result"
    }
   ],
   "source": [
    "'Hello'\n",
    "\n",
    "'hello world!'"
   ]
  },
  {
   "cell_type": "code",
   "execution_count": 3,
   "id": "a86cdc23",
   "metadata": {},
   "outputs": [
    {
     "data": {
      "text/plain": [
       "str"
      ]
     },
     "execution_count": 3,
     "metadata": {},
     "output_type": "execute_result"
    }
   ],
   "source": [
    "type('Hello')"
   ]
  },
  {
   "cell_type": "code",
   "execution_count": 6,
   "id": "50f2222a",
   "metadata": {},
   "outputs": [
    {
     "data": {
      "text/plain": [
       "'2345'"
      ]
     },
     "execution_count": 6,
     "metadata": {},
     "output_type": "execute_result"
    }
   ],
   "source": [
    "\"23\" + \"45\""
   ]
  },
  {
   "cell_type": "code",
   "execution_count": 7,
   "id": "3311d07b",
   "metadata": {},
   "outputs": [
    {
     "data": {
      "text/plain": [
       "68"
      ]
     },
     "execution_count": 7,
     "metadata": {},
     "output_type": "execute_result"
    }
   ],
   "source": [
    "23 + 45"
   ]
  },
  {
   "cell_type": "code",
   "execution_count": 8,
   "id": "ca981a72",
   "metadata": {},
   "outputs": [
    {
     "data": {
      "text/plain": [
       "'hello world'"
      ]
     },
     "execution_count": 8,
     "metadata": {},
     "output_type": "execute_result"
    }
   ],
   "source": [
    "\"hello\" + \" world\""
   ]
  },
  {
   "cell_type": "code",
   "execution_count": null,
   "id": "6a8be6f2",
   "metadata": {},
   "outputs": [],
   "source": [
    "# Errors Type Errors, Syntax Errors, Name Errors, Indentation Errors"
   ]
  },
  {
   "cell_type": "code",
   "execution_count": 12,
   "id": "ba9e40d9",
   "metadata": {},
   "outputs": [
    {
     "data": {
      "text/plain": [
       "2.5"
      ]
     },
     "execution_count": 12,
     "metadata": {},
     "output_type": "execute_result"
    }
   ],
   "source": [
    "5 / 2"
   ]
  },
  {
   "cell_type": "code",
   "execution_count": 10,
   "id": "daadd1f3",
   "metadata": {},
   "outputs": [
    {
     "data": {
      "text/plain": [
       "2"
      ]
     },
     "execution_count": 10,
     "metadata": {},
     "output_type": "execute_result"
    }
   ],
   "source": [
    "5 // 2"
   ]
  },
  {
   "cell_type": "code",
   "execution_count": 11,
   "id": "3c7ca7c1",
   "metadata": {},
   "outputs": [
    {
     "data": {
      "text/plain": [
       "1"
      ]
     },
     "execution_count": 11,
     "metadata": {},
     "output_type": "execute_result"
    }
   ],
   "source": [
    "5 % 2"
   ]
  },
  {
   "cell_type": "code",
   "execution_count": null,
   "id": "206ab62d",
   "metadata": {},
   "outputs": [
    {
     "data": {
      "text/plain": [
       "125"
      ]
     },
     "execution_count": 13,
     "metadata": {},
     "output_type": "execute_result"
    }
   ],
   "source": [
    "5 ** 3 # Exponentiation 5 * 5 * 5"
   ]
  },
  {
   "cell_type": "code",
   "execution_count": 14,
   "id": "41ad9e9a",
   "metadata": {},
   "outputs": [
    {
     "data": {
      "text/plain": [
       "False"
      ]
     },
     "execution_count": 14,
     "metadata": {},
     "output_type": "execute_result"
    }
   ],
   "source": [
    "not True"
   ]
  },
  {
   "cell_type": "code",
   "execution_count": 15,
   "id": "6eab5387",
   "metadata": {},
   "outputs": [
    {
     "data": {
      "text/plain": [
       "True"
      ]
     },
     "execution_count": 15,
     "metadata": {},
     "output_type": "execute_result"
    }
   ],
   "source": [
    "not False"
   ]
  },
  {
   "cell_type": "code",
   "execution_count": 16,
   "id": "7d256eed",
   "metadata": {},
   "outputs": [
    {
     "data": {
      "text/plain": [
       "True"
      ]
     },
     "execution_count": 16,
     "metadata": {},
     "output_type": "execute_result"
    }
   ],
   "source": [
    "2 != 3"
   ]
  },
  {
   "cell_type": "code",
   "execution_count": 17,
   "id": "4428f9e7",
   "metadata": {},
   "outputs": [
    {
     "name": "stdout",
     "output_type": "stream",
     "text": [
      "This is true\n"
     ]
    }
   ],
   "source": [
    "if True:\n",
    "    print(\"This is true\")"
   ]
  },
  {
   "cell_type": "code",
   "execution_count": 18,
   "id": "5034194c",
   "metadata": {},
   "outputs": [],
   "source": [
    "if False:\n",
    "    print(\"This is true\")"
   ]
  },
  {
   "cell_type": "code",
   "execution_count": 19,
   "id": "05e7ad20",
   "metadata": {},
   "outputs": [
    {
     "data": {
      "text/plain": [
       "['apples', 'bananas', 'oranges']"
      ]
     },
     "execution_count": 19,
     "metadata": {},
     "output_type": "execute_result"
    }
   ],
   "source": [
    "grocery_list = ['apples', 'bananas', 'oranges']\n",
    "grocery_list"
   ]
  },
  {
   "cell_type": "code",
   "execution_count": 20,
   "id": "8116cd58",
   "metadata": {},
   "outputs": [
    {
     "data": {
      "text/plain": [
       "['apples', 'bananas', 'oranges', 'grapes']"
      ]
     },
     "execution_count": 20,
     "metadata": {},
     "output_type": "execute_result"
    }
   ],
   "source": [
    "grocery_list.append('grapes')\n",
    "grocery_list"
   ]
  },
  {
   "cell_type": "code",
   "execution_count": 21,
   "id": "0df69883",
   "metadata": {},
   "outputs": [
    {
     "name": "stdout",
     "output_type": "stream",
     "text": [
      "apples\n",
      "bananas\n",
      "oranges\n",
      "grapes\n"
     ]
    }
   ],
   "source": [
    "for item in grocery_list:\n",
    "    print(item)"
   ]
  },
  {
   "cell_type": "code",
   "execution_count": 23,
   "id": "d2f7ba8e",
   "metadata": {},
   "outputs": [
    {
     "data": {
      "text/plain": [
       "'bananas'"
      ]
     },
     "execution_count": 23,
     "metadata": {},
     "output_type": "execute_result"
    }
   ],
   "source": [
    "grocery_list[1] "
   ]
  },
  {
   "cell_type": "code",
   "execution_count": 27,
   "id": "c1f34452",
   "metadata": {},
   "outputs": [
    {
     "name": "stdout",
     "output_type": "stream",
     "text": [
      "apples\n",
      "bananas\n",
      "oranges\n",
      "grapes\n"
     ]
    }
   ],
   "source": [
    "for i in [0, 1, 2, 3]:\n",
    "    print(grocery_list[i])"
   ]
  },
  {
   "cell_type": "code",
   "execution_count": 29,
   "id": "527dac70",
   "metadata": {},
   "outputs": [
    {
     "name": "stdout",
     "output_type": "stream",
     "text": [
      "apples\n",
      "bananas\n",
      "oranges\n",
      "grapes\n"
     ]
    }
   ],
   "source": [
    "for i in range(4):\n",
    "    print(grocery_list[i])"
   ]
  },
  {
   "cell_type": "code",
   "execution_count": 30,
   "id": "0ee491ba",
   "metadata": {},
   "outputs": [
    {
     "data": {
      "text/plain": [
       "4"
      ]
     },
     "execution_count": 30,
     "metadata": {},
     "output_type": "execute_result"
    }
   ],
   "source": [
    "len(grocery_list)"
   ]
  },
  {
   "cell_type": "code",
   "execution_count": 31,
   "id": "7b4c53a9",
   "metadata": {},
   "outputs": [
    {
     "name": "stdout",
     "output_type": "stream",
     "text": [
      "0 apples\n",
      "1 bananas\n",
      "2 oranges\n",
      "3 grapes\n"
     ]
    }
   ],
   "source": [
    "for i, item in enumerate(grocery_list):\n",
    "    print(i, item)"
   ]
  },
  {
   "cell_type": "code",
   "execution_count": 32,
   "id": "633ff620",
   "metadata": {},
   "outputs": [
    {
     "name": "stdout",
     "output_type": "stream",
     "text": [
      "grapes\n",
      "oranges\n",
      "bananas\n",
      "apples\n"
     ]
    }
   ],
   "source": [
    "j = len(grocery_list) - 1\n",
    "while j >= 0:\n",
    "    print(grocery_list[j])\n",
    "    j -= 1"
   ]
  },
  {
   "cell_type": "code",
   "execution_count": 33,
   "id": "67c08ddb",
   "metadata": {},
   "outputs": [
    {
     "name": "stdout",
     "output_type": "stream",
     "text": [
      "This will run\n"
     ]
    }
   ],
   "source": [
    "if False:\n",
    "    print(\"This won't run\")\n",
    "elif False:\n",
    "    print(\"This won't run either\")\n",
    "else:\n",
    "    print(\"This will run\")"
   ]
  },
  {
   "cell_type": "code",
   "execution_count": 37,
   "id": "cd8675c9",
   "metadata": {},
   "outputs": [
    {
     "name": "stdout",
     "output_type": "stream",
     "text": [
      "Hello from our_print function!\n",
      "87\n"
     ]
    }
   ],
   "source": [
    "# Functions\n",
    "\n",
    "def our_print(s):\n",
    "    print(s)\n",
    "    print(z)\n",
    "\n",
    "our_print(\"Hello from our_print function!\")"
   ]
  },
  {
   "cell_type": "code",
   "execution_count": 36,
   "id": "a5b52d0b",
   "metadata": {},
   "outputs": [],
   "source": [
    "z = 87"
   ]
  },
  {
   "cell_type": "code",
   "execution_count": 38,
   "id": "f716036c",
   "metadata": {},
   "outputs": [
    {
     "data": {
      "text/plain": [
       "10"
      ]
     },
     "execution_count": 38,
     "metadata": {},
     "output_type": "execute_result"
    }
   ],
   "source": [
    "def times_2(x):\n",
    "    return x * 2\n",
    "\n",
    "times_2(5)"
   ]
  },
  {
   "cell_type": "code",
   "execution_count": null,
   "id": "9b928d57",
   "metadata": {},
   "outputs": [],
   "source": [
    "# Side Effects - when something happens outside the function that is effected by the function"
   ]
  },
  {
   "cell_type": "code",
   "execution_count": 40,
   "id": "c796cff1",
   "metadata": {},
   "outputs": [
    {
     "name": "stdout",
     "output_type": "stream",
     "text": [
      "True\n",
      "True\n",
      "True\n",
      "False\n"
     ]
    }
   ],
   "source": [
    "# is checks whether two variables point to the same object in memory (i.e., identity), not just equality in value.\n",
    "\n",
    "a = [1, 2, 3]\n",
    "b = a         # both point to the same list\n",
    "c = [1, 2, 3]  # different list with same contents\n",
    "\n",
    "print(a == b)  # True (values are equal)\n",
    "print(a is b)  # True (same memory address)\n",
    "\n",
    "print(a == c)  # True (values are equal)\n",
    "print(a is c)  # False (different memory address)\n"
   ]
  },
  {
   "cell_type": "code",
   "execution_count": 42,
   "id": "bb970101",
   "metadata": {},
   "outputs": [
    {
     "name": "stdout",
     "output_type": "stream",
     "text": [
      "[[99, 2], [3, 4]]\n",
      "[[1, 2], [3, 4]]\n"
     ]
    }
   ],
   "source": [
    "from copy import deepcopy\n",
    "\n",
    "original = [[1, 2], [3, 4]]\n",
    "deep = deepcopy(original)\n",
    "\n",
    "original[0][0] = 99\n",
    "\n",
    "print(original)  # [[99, 2], [3, 4]] → affected!\n",
    "print(deep)      # [[1, 2], [3, 4]] → not affected!"
   ]
  },
  {
   "cell_type": "code",
   "execution_count": 43,
   "id": "da4ebadd",
   "metadata": {},
   "outputs": [
    {
     "name": "stdout",
     "output_type": "stream",
     "text": [
      "Inside function: x is y? True\n"
     ]
    }
   ],
   "source": [
    "def check_identity(x):\n",
    "    print(\"Inside function: x is y?\", x is y)\n",
    "\n",
    "y = [10, 20]\n",
    "check_identity(y)"
   ]
  },
  {
   "cell_type": "code",
   "execution_count": 44,
   "id": "39e766a6",
   "metadata": {},
   "outputs": [],
   "source": [
    "# When you do x = 5 and y = x, both x and y point to the same immutable integer 5. But when you later do x = 6, you're not modifying the original value — you're just making x point to a new integer 6. \n",
    "# Since integers are immutable, any \"change\" creates a new object, leaving y still pointing to 5.\n",
    "\n",
    "# In contrast, lists like a = [0,1,2] are mutable. When you assign b = a, both a and b point to the same list object in memory. So if you do b[0] = 44, you're modifying the contents of the shared list, \n",
    "# and the change is reflected in both a and b."
   ]
  },
  {
   "cell_type": "code",
   "execution_count": 45,
   "id": "c9058d72",
   "metadata": {},
   "outputs": [
    {
     "name": "stdout",
     "output_type": "stream",
     "text": [
      "6\n",
      "5\n",
      "[44, 1, 2]\n",
      "[44, 1, 2]\n"
     ]
    }
   ],
   "source": [
    "# Immutable case\n",
    "x = 5\n",
    "y = x\n",
    "x = 6\n",
    "print(x)  # 6\n",
    "print(y)  # 5  → y is not affected\n",
    "\n",
    "# Mutable case\n",
    "a = [0, 1, 2]\n",
    "b = a\n",
    "b[0] = 44\n",
    "print(a)  # [44, 1, 2] → a is changed\n",
    "print(b)  # [44, 1, 2] → same list as a"
   ]
  },
  {
   "cell_type": "code",
   "execution_count": null,
   "id": "aaa8ca47",
   "metadata": {},
   "outputs": [],
   "source": []
  }
 ],
 "metadata": {
  "kernelspec": {
   "display_name": "Python 3",
   "language": "python",
   "name": "python3"
  },
  "language_info": {
   "codemirror_mode": {
    "name": "ipython",
    "version": 3
   },
   "file_extension": ".py",
   "mimetype": "text/x-python",
   "name": "python",
   "nbconvert_exporter": "python",
   "pygments_lexer": "ipython3",
   "version": "3.11.9"
  }
 },
 "nbformat": 4,
 "nbformat_minor": 5
}
