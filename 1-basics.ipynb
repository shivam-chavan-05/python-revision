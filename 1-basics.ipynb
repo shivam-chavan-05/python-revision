{
 "cells": [
  {
   "cell_type": "code",
   "execution_count": 1,
   "id": "184a5a33",
   "metadata": {},
   "outputs": [
    {
     "name": "stdout",
     "output_type": "stream",
     "text": [
      "Hello world!\n"
     ]
    }
   ],
   "source": [
    "print (\"Hello world!\")"
   ]
  },
  {
   "cell_type": "code",
   "execution_count": 2,
   "id": "c7dfe658",
   "metadata": {},
   "outputs": [
    {
     "data": {
      "text/plain": [
       "'hello world!'"
      ]
     },
     "execution_count": 2,
     "metadata": {},
     "output_type": "execute_result"
    }
   ],
   "source": [
    "'Hello'\n",
    "\n",
    "'hello world!'"
   ]
  },
  {
   "cell_type": "code",
   "execution_count": 3,
   "id": "a86cdc23",
   "metadata": {},
   "outputs": [
    {
     "data": {
      "text/plain": [
       "str"
      ]
     },
     "execution_count": 3,
     "metadata": {},
     "output_type": "execute_result"
    }
   ],
   "source": [
    "type('Hello')"
   ]
  },
  {
   "cell_type": "code",
   "execution_count": 6,
   "id": "50f2222a",
   "metadata": {},
   "outputs": [
    {
     "data": {
      "text/plain": [
       "'2345'"
      ]
     },
     "execution_count": 6,
     "metadata": {},
     "output_type": "execute_result"
    }
   ],
   "source": [
    "\"23\" + \"45\""
   ]
  },
  {
   "cell_type": "code",
   "execution_count": 7,
   "id": "3311d07b",
   "metadata": {},
   "outputs": [
    {
     "data": {
      "text/plain": [
       "68"
      ]
     },
     "execution_count": 7,
     "metadata": {},
     "output_type": "execute_result"
    }
   ],
   "source": [
    "23 + 45"
   ]
  },
  {
   "cell_type": "code",
   "execution_count": 8,
   "id": "ca981a72",
   "metadata": {},
   "outputs": [
    {
     "data": {
      "text/plain": [
       "'hello world'"
      ]
     },
     "execution_count": 8,
     "metadata": {},
     "output_type": "execute_result"
    }
   ],
   "source": [
    "\"hello\" + \" world\""
   ]
  },
  {
   "cell_type": "code",
   "execution_count": null,
   "id": "6a8be6f2",
   "metadata": {},
   "outputs": [],
   "source": [
    "# Errors Type Errors, Syntax Errors, Name Errors, Indentation Errors"
   ]
  },
  {
   "cell_type": "code",
   "execution_count": 12,
   "id": "ba9e40d9",
   "metadata": {},
   "outputs": [
    {
     "data": {
      "text/plain": [
       "2.5"
      ]
     },
     "execution_count": 12,
     "metadata": {},
     "output_type": "execute_result"
    }
   ],
   "source": [
    "5 / 2"
   ]
  },
  {
   "cell_type": "code",
   "execution_count": 10,
   "id": "daadd1f3",
   "metadata": {},
   "outputs": [
    {
     "data": {
      "text/plain": [
       "2"
      ]
     },
     "execution_count": 10,
     "metadata": {},
     "output_type": "execute_result"
    }
   ],
   "source": [
    "5 // 2"
   ]
  },
  {
   "cell_type": "code",
   "execution_count": 11,
   "id": "3c7ca7c1",
   "metadata": {},
   "outputs": [
    {
     "data": {
      "text/plain": [
       "1"
      ]
     },
     "execution_count": 11,
     "metadata": {},
     "output_type": "execute_result"
    }
   ],
   "source": [
    "5 % 2"
   ]
  },
  {
   "cell_type": "code",
   "execution_count": null,
   "id": "206ab62d",
   "metadata": {},
   "outputs": [
    {
     "data": {
      "text/plain": [
       "125"
      ]
     },
     "execution_count": 13,
     "metadata": {},
     "output_type": "execute_result"
    }
   ],
   "source": [
    "5 ** 3 # Exponentiation 5 * 5 * 5"
   ]
  },
  {
   "cell_type": "code",
   "execution_count": 14,
   "id": "41ad9e9a",
   "metadata": {},
   "outputs": [
    {
     "data": {
      "text/plain": [
       "False"
      ]
     },
     "execution_count": 14,
     "metadata": {},
     "output_type": "execute_result"
    }
   ],
   "source": [
    "not True"
   ]
  },
  {
   "cell_type": "code",
   "execution_count": 15,
   "id": "6eab5387",
   "metadata": {},
   "outputs": [
    {
     "data": {
      "text/plain": [
       "True"
      ]
     },
     "execution_count": 15,
     "metadata": {},
     "output_type": "execute_result"
    }
   ],
   "source": [
    "not False"
   ]
  },
  {
   "cell_type": "code",
   "execution_count": 16,
   "id": "7d256eed",
   "metadata": {},
   "outputs": [
    {
     "data": {
      "text/plain": [
       "True"
      ]
     },
     "execution_count": 16,
     "metadata": {},
     "output_type": "execute_result"
    }
   ],
   "source": [
    "2 != 3"
   ]
  },
  {
   "cell_type": "code",
   "execution_count": 17,
   "id": "4428f9e7",
   "metadata": {},
   "outputs": [
    {
     "name": "stdout",
     "output_type": "stream",
     "text": [
      "This is true\n"
     ]
    }
   ],
   "source": [
    "if True:\n",
    "    print(\"This is true\")"
   ]
  },
  {
   "cell_type": "code",
   "execution_count": 18,
   "id": "5034194c",
   "metadata": {},
   "outputs": [],
   "source": [
    "if False:\n",
    "    print(\"This is true\")"
   ]
  },
  {
   "cell_type": "code",
   "execution_count": 19,
   "id": "05e7ad20",
   "metadata": {},
   "outputs": [
    {
     "data": {
      "text/plain": [
       "['apples', 'bananas', 'oranges']"
      ]
     },
     "execution_count": 19,
     "metadata": {},
     "output_type": "execute_result"
    }
   ],
   "source": [
    "grocery_list = ['apples', 'bananas', 'oranges']\n",
    "grocery_list"
   ]
  },
  {
   "cell_type": "code",
   "execution_count": 20,
   "id": "8116cd58",
   "metadata": {},
   "outputs": [
    {
     "data": {
      "text/plain": [
       "['apples', 'bananas', 'oranges', 'grapes']"
      ]
     },
     "execution_count": 20,
     "metadata": {},
     "output_type": "execute_result"
    }
   ],
   "source": [
    "grocery_list.append('grapes')\n",
    "grocery_list"
   ]
  },
  {
   "cell_type": "code",
   "execution_count": 21,
   "id": "0df69883",
   "metadata": {},
   "outputs": [
    {
     "name": "stdout",
     "output_type": "stream",
     "text": [
      "apples\n",
      "bananas\n",
      "oranges\n",
      "grapes\n"
     ]
    }
   ],
   "source": [
    "for item in grocery_list:\n",
    "    print(item)"
   ]
  },
  {
   "cell_type": "code",
   "execution_count": 23,
   "id": "d2f7ba8e",
   "metadata": {},
   "outputs": [
    {
     "data": {
      "text/plain": [
       "'bananas'"
      ]
     },
     "execution_count": 23,
     "metadata": {},
     "output_type": "execute_result"
    }
   ],
   "source": [
    "grocery_list[1] "
   ]
  },
  {
   "cell_type": "code",
   "execution_count": 27,
   "id": "c1f34452",
   "metadata": {},
   "outputs": [
    {
     "name": "stdout",
     "output_type": "stream",
     "text": [
      "apples\n",
      "bananas\n",
      "oranges\n",
      "grapes\n"
     ]
    }
   ],
   "source": [
    "for i in [0, 1, 2, 3]:\n",
    "    print(grocery_list[i])"
   ]
  },
  {
   "cell_type": "code",
   "execution_count": 29,
   "id": "527dac70",
   "metadata": {},
   "outputs": [
    {
     "name": "stdout",
     "output_type": "stream",
     "text": [
      "apples\n",
      "bananas\n",
      "oranges\n",
      "grapes\n"
     ]
    }
   ],
   "source": [
    "for i in range(4):\n",
    "    print(grocery_list[i])"
   ]
  },
  {
   "cell_type": "code",
   "execution_count": 30,
   "id": "0ee491ba",
   "metadata": {},
   "outputs": [
    {
     "data": {
      "text/plain": [
       "4"
      ]
     },
     "execution_count": 30,
     "metadata": {},
     "output_type": "execute_result"
    }
   ],
   "source": [
    "len(grocery_list)"
   ]
  },
  {
   "cell_type": "code",
   "execution_count": 31,
   "id": "7b4c53a9",
   "metadata": {},
   "outputs": [
    {
     "name": "stdout",
     "output_type": "stream",
     "text": [
      "0 apples\n",
      "1 bananas\n",
      "2 oranges\n",
      "3 grapes\n"
     ]
    }
   ],
   "source": [
    "for i, item in enumerate(grocery_list):\n",
    "    print(i, item)"
   ]
  },
  {
   "cell_type": "code",
   "execution_count": 32,
   "id": "633ff620",
   "metadata": {},
   "outputs": [
    {
     "name": "stdout",
     "output_type": "stream",
     "text": [
      "grapes\n",
      "oranges\n",
      "bananas\n",
      "apples\n"
     ]
    }
   ],
   "source": [
    "j = len(grocery_list) - 1\n",
    "while j >= 0:\n",
    "    print(grocery_list[j])\n",
    "    j -= 1"
   ]
  },
  {
   "cell_type": "code",
   "execution_count": null,
   "id": "67c08ddb",
   "metadata": {},
   "outputs": [],
   "source": []
  }
 ],
 "metadata": {
  "kernelspec": {
   "display_name": "Python 3",
   "language": "python",
   "name": "python3"
  },
  "language_info": {
   "codemirror_mode": {
    "name": "ipython",
    "version": 3
   },
   "file_extension": ".py",
   "mimetype": "text/x-python",
   "name": "python",
   "nbconvert_exporter": "python",
   "pygments_lexer": "ipython3",
   "version": "3.11.9"
  }
 },
 "nbformat": 4,
 "nbformat_minor": 5
}
