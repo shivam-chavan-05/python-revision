{
 "cells": [
  {
   "cell_type": "code",
   "execution_count": 1,
   "id": "bc2f24c5",
   "metadata": {},
   "outputs": [
    {
     "name": "stdout",
     "output_type": "stream",
     "text": [
      "==== STACK DEMO ====\n",
      "Stack after pushes: [10, 20, 30]\n",
      "Top of stack: 30\n",
      "Popped: 30\n",
      "Stack now: [10, 20]\n",
      "Is stack empty? False\n",
      "------------------------------\n",
      "==== QUEUE DEMO ====\n",
      "Queue after enqueues: deque([10, 20, 30])\n",
      "Front of queue: 10\n",
      "Dequeued: 10\n",
      "Queue now: deque([20, 30])\n",
      "Is queue empty? False\n",
      "------------------------------\n",
      "==== CLASS STACK DEMO ====\n",
      "Top: 7\n",
      "Pop: 7\n",
      "Empty? False\n",
      "------------------------------\n",
      "==== CLASS QUEUE DEMO ====\n",
      "Front: A\n",
      "Dequeued: A\n",
      "Empty? False\n"
     ]
    }
   ],
   "source": [
    "# ===================================\n",
    "# 📘 STACKS & QUEUES IN PYTHON\n",
    "# ===================================\n",
    "\n",
    "# ================================\n",
    "# 🧱 STACK - LIFO (Last In First Out)\n",
    "# ================================\n",
    "\n",
    "# ✅ Definition:\n",
    "# A stack is a data structure where the last element added is the first one to be removed.\n",
    "# Common operations:\n",
    "# - push: add to the top\n",
    "# - pop: remove from the top\n",
    "# - peek/top: view the top item\n",
    "# - isEmpty: check if the stack is empty\n",
    "\n",
    "print(\"==== STACK DEMO ====\")\n",
    "\n",
    "# ✅ Stack using a Python list\n",
    "stack = []\n",
    "\n",
    "# Push elements\n",
    "stack.append(10)\n",
    "stack.append(20)\n",
    "stack.append(30)\n",
    "print(\"Stack after pushes:\", stack)\n",
    "\n",
    "# Peek (look at the top element)\n",
    "print(\"Top of stack:\", stack[-1])  # Output: 30\n",
    "\n",
    "# Pop elements (removes last pushed)\n",
    "print(\"Popped:\", stack.pop())      # Output: 30\n",
    "print(\"Stack now:\", stack)         # [10, 20]\n",
    "\n",
    "# Check if empty\n",
    "print(\"Is stack empty?\", len(stack) == 0)  # False\n",
    "\n",
    "print(\"-\" * 30)\n",
    "\n",
    "# ================================\n",
    "# 🚚 QUEUE - FIFO (First In First Out)\n",
    "# ================================\n",
    "\n",
    "# ✅ Definition:\n",
    "# A queue is a data structure where the first element added is the first to be removed.\n",
    "# Common operations:\n",
    "# - enqueue: add to rear\n",
    "# - dequeue: remove from front\n",
    "# - peek/front: look at front item\n",
    "# - isEmpty: check if empty\n",
    "\n",
    "print(\"==== QUEUE DEMO ====\")\n",
    "\n",
    "# ✅ Queue using collections.deque (efficient for both ends)\n",
    "from collections import deque\n",
    "\n",
    "queue = deque()\n",
    "\n",
    "# Enqueue elements\n",
    "queue.append(10)\n",
    "queue.append(20)\n",
    "queue.append(30)\n",
    "print(\"Queue after enqueues:\", queue)\n",
    "\n",
    "# Peek (look at the front)\n",
    "print(\"Front of queue:\", queue[0])  # Output: 10\n",
    "\n",
    "# Dequeue elements (removes first added)\n",
    "print(\"Dequeued:\", queue.popleft()) # Output: 10\n",
    "print(\"Queue now:\", queue)          # deque([20, 30])\n",
    "\n",
    "# Check if empty\n",
    "print(\"Is queue empty?\", len(queue) == 0)  # False\n",
    "\n",
    "print(\"-\" * 30)\n",
    "\n",
    "# ===================================\n",
    "# 🔄 BONUS: IMPLEMENT STACK AS A CLASS\n",
    "# ===================================\n",
    "\n",
    "class Stack:\n",
    "    def __init__(self):\n",
    "        self.items = []\n",
    "\n",
    "    def push(self, item):\n",
    "        self.items.append(item)\n",
    "\n",
    "    def pop(self):\n",
    "        if not self.is_empty():\n",
    "            return self.items.pop()\n",
    "        return None\n",
    "\n",
    "    def peek(self):\n",
    "        if not self.is_empty():\n",
    "            return self.items[-1]\n",
    "        return None\n",
    "\n",
    "    def is_empty(self):\n",
    "        return len(self.items) == 0\n",
    "\n",
    "    def size(self):\n",
    "        return len(self.items)\n",
    "\n",
    "print(\"==== CLASS STACK DEMO ====\")\n",
    "s = Stack()\n",
    "s.push(5)\n",
    "s.push(7)\n",
    "print(\"Top:\", s.peek())       # 7\n",
    "print(\"Pop:\", s.pop())        # 7\n",
    "print(\"Empty?\", s.is_empty()) # False\n",
    "\n",
    "print(\"-\" * 30)\n",
    "\n",
    "# ===================================\n",
    "# 🔄 BONUS: IMPLEMENT QUEUE AS A CLASS\n",
    "# ===================================\n",
    "\n",
    "class Queue:\n",
    "    def __init__(self):\n",
    "        self.items = deque()\n",
    "\n",
    "    def enqueue(self, item):\n",
    "        self.items.append(item)\n",
    "\n",
    "    def dequeue(self):\n",
    "        if not self.is_empty():\n",
    "            return self.items.popleft()\n",
    "        return None\n",
    "\n",
    "    def peek(self):\n",
    "        if not self.is_empty():\n",
    "            return self.items[0]\n",
    "        return None\n",
    "\n",
    "    def is_empty(self):\n",
    "        return len(self.items) == 0\n",
    "\n",
    "    def size(self):\n",
    "        return len(self.items)\n",
    "\n",
    "print(\"==== CLASS QUEUE DEMO ====\")\n",
    "q = Queue()\n",
    "q.enqueue(\"A\")\n",
    "q.enqueue(\"B\")\n",
    "print(\"Front:\", q.peek())      # A\n",
    "print(\"Dequeued:\", q.dequeue())# A\n",
    "print(\"Empty?\", q.is_empty())  # False\n",
    "\n",
    "# ================================\n",
    "# 🧠 Common Use Cases:\n",
    "# ================================\n",
    "# Stack: undo functionality, recursive calls, expression evaluation\n",
    "# Queue: printer queue, customer service, BFS traversal\n",
    "\n",
    "# ===================================\n",
    "# END OF FILE\n",
    "# ===================================\n"
   ]
  },
  {
   "cell_type": "markdown",
   "id": "e03e9234",
   "metadata": {},
   "source": [
    "# Greg Hogg"
   ]
  },
  {
   "cell_type": "code",
   "execution_count": 2,
   "id": "ce5b588b",
   "metadata": {},
   "outputs": [],
   "source": [
    "# We use dynamic arrays for stacks and doubly linked lists for queues in Python.\n"
   ]
  },
  {
   "cell_type": "code",
   "execution_count": 3,
   "id": "9bcf1e55",
   "metadata": {},
   "outputs": [
    {
     "name": "stdout",
     "output_type": "stream",
     "text": [
      "[]\n"
     ]
    }
   ],
   "source": [
    "# Stacks - Last in First Out (Lifo)\n",
    "\n",
    "stk = []\n",
    "print(stk)"
   ]
  },
  {
   "cell_type": "code",
   "execution_count": 4,
   "id": "03660f39",
   "metadata": {},
   "outputs": [],
   "source": [
    "# Append to top of stack - O(1)\n",
    "stk.append(5)"
   ]
  },
  {
   "cell_type": "code",
   "execution_count": 5,
   "id": "2cd3f0c6",
   "metadata": {},
   "outputs": [
    {
     "data": {
      "text/plain": [
       "[5, 4, 3]"
      ]
     },
     "execution_count": 5,
     "metadata": {},
     "output_type": "execute_result"
    }
   ],
   "source": [
    "stk.append(4)\n",
    "stk.append(3)\n",
    "\n",
    "stk"
   ]
  },
  {
   "cell_type": "code",
   "execution_count": 6,
   "id": "5cee6ece",
   "metadata": {},
   "outputs": [
    {
     "name": "stdout",
     "output_type": "stream",
     "text": [
      "3\n",
      "[5, 4]\n"
     ]
    }
   ],
   "source": [
    "# Pop from stack - O(1)\n",
    "x = stk.pop()\n",
    "\n",
    "print(x)\n",
    "print(stk)"
   ]
  },
  {
   "cell_type": "code",
   "execution_count": 7,
   "id": "fdfd9554",
   "metadata": {},
   "outputs": [
    {
     "name": "stdout",
     "output_type": "stream",
     "text": [
      "4\n"
     ]
    }
   ],
   "source": [
    "# Ask what's on the top of stack - O(1)\n",
    "print(stk[-1])"
   ]
  },
  {
   "cell_type": "code",
   "execution_count": 8,
   "id": "7324c0b6",
   "metadata": {},
   "outputs": [
    {
     "name": "stdout",
     "output_type": "stream",
     "text": [
      "True\n"
     ]
    }
   ],
   "source": [
    "# Ask if something is in the stack - O(1)\n",
    "if stk:\n",
    "  print(True)"
   ]
  },
  {
   "cell_type": "code",
   "execution_count": 9,
   "id": "60a5d978",
   "metadata": {},
   "outputs": [
    {
     "name": "stdout",
     "output_type": "stream",
     "text": [
      "deque([])\n"
     ]
    }
   ],
   "source": [
    "# Queues - First in First out (Fifo)\n",
    "\n",
    "from collections import deque\n",
    "\n",
    "q = deque()\n",
    "\n",
    "print(q)"
   ]
  },
  {
   "cell_type": "code",
   "execution_count": 10,
   "id": "55f8f88d",
   "metadata": {},
   "outputs": [
    {
     "data": {
      "text/plain": [
       "deque([5, 6, 7])"
      ]
     },
     "execution_count": 10,
     "metadata": {},
     "output_type": "execute_result"
    }
   ],
   "source": [
    "# Enqueue - Add element to the right - O(1)\n",
    "q.append(5)\n",
    "q.append(6)\n",
    "q.append(7)\n",
    "q"
   ]
  },
  {
   "cell_type": "code",
   "execution_count": 11,
   "id": "3fefe2ac",
   "metadata": {},
   "outputs": [
    {
     "data": {
      "text/plain": [
       "5"
      ]
     },
     "execution_count": 11,
     "metadata": {},
     "output_type": "execute_result"
    }
   ],
   "source": [
    "# Deqeue (pop left) - Remove element from the left - O(1)\n",
    "q.popleft()"
   ]
  },
  {
   "cell_type": "code",
   "execution_count": 12,
   "id": "72ff8151",
   "metadata": {},
   "outputs": [
    {
     "data": {
      "text/plain": [
       "deque([6, 7])"
      ]
     },
     "execution_count": 12,
     "metadata": {},
     "output_type": "execute_result"
    }
   ],
   "source": [
    "q"
   ]
  },
  {
   "cell_type": "code",
   "execution_count": 13,
   "id": "73bbf9bd",
   "metadata": {},
   "outputs": [
    {
     "data": {
      "text/plain": [
       "6"
      ]
     },
     "execution_count": 13,
     "metadata": {},
     "output_type": "execute_result"
    }
   ],
   "source": [
    "# Peek from left side - O(1)\n",
    "q[0]"
   ]
  },
  {
   "cell_type": "code",
   "execution_count": 14,
   "id": "c579ce7f",
   "metadata": {},
   "outputs": [
    {
     "data": {
      "text/plain": [
       "7"
      ]
     },
     "execution_count": 14,
     "metadata": {},
     "output_type": "execute_result"
    }
   ],
   "source": [
    "# Peek from right side - O(1)\n",
    "q[-1]"
   ]
  },
  {
   "cell_type": "code",
   "execution_count": 15,
   "id": "e27b0ff7",
   "metadata": {},
   "outputs": [
    {
     "data": {
      "text/plain": [
       "deque([5, 6, 7])"
      ]
     },
     "execution_count": 15,
     "metadata": {},
     "output_type": "execute_result"
    }
   ],
   "source": [
    "# Enqueue - Add element to the right - O(1)\n",
    "q.appendleft(5)\n",
    "q"
   ]
  },
  {
   "cell_type": "code",
   "execution_count": 16,
   "id": "f3452dfc",
   "metadata": {},
   "outputs": [
    {
     "data": {
      "text/plain": [
       "deque([5, 5, 6, 7])"
      ]
     },
     "execution_count": 16,
     "metadata": {},
     "output_type": "execute_result"
    }
   ],
   "source": [
    "q.appendleft(5)\n",
    "q"
   ]
  },
  {
   "cell_type": "code",
   "execution_count": null,
   "id": "8d8410d2",
   "metadata": {},
   "outputs": [],
   "source": []
  }
 ],
 "metadata": {
  "kernelspec": {
   "display_name": "Python 3",
   "language": "python",
   "name": "python3"
  },
  "language_info": {
   "codemirror_mode": {
    "name": "ipython",
    "version": 3
   },
   "file_extension": ".py",
   "mimetype": "text/x-python",
   "name": "python",
   "nbconvert_exporter": "python",
   "pygments_lexer": "ipython3",
   "version": "3.11.9"
  }
 },
 "nbformat": 4,
 "nbformat_minor": 5
}
