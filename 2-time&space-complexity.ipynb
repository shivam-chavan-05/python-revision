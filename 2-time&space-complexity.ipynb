{
 "cells": [
  {
   "cell_type": "code",
   "execution_count": null,
   "id": "a8d39812",
   "metadata": {},
   "outputs": [],
   "source": [
    "# 📘 Understanding Time Complexity, Big O Notation, and Space Complexity\n",
    "\n",
    "# 🔹 Time Complexity:\n",
    "# Time complexity describes how the runtime of an algorithm increases as the size of the input grows.\n",
    "# It helps us estimate performance, especially for large inputs.\n",
    "# Example: A loop that runs 'n' times has time complexity O(n) — it grows linearly with input size.\n",
    "\n",
    "# 🔹 Big O Notation:\n",
    "# Big O is a mathematical notation used to classify algorithms based on their worst-case growth rate.\n",
    "# Common Big O notations:\n",
    "# - O(1): Constant time — fast and does not grow with input.\n",
    "# - O(log n): Logarithmic — grows slowly even with large input.\n",
    "# - O(n): Linear — time grows directly with input size.\n",
    "# - O(n^2): Quadratic — time grows with square of input (e.g., nested loops).\n",
    "# - O(2^n), O(n!): Exponential — grows very fast, usually inefficient for large inputs.\n",
    "\n",
    "# 🔹 Space Complexity:\n",
    "# Space complexity measures how much additional memory the algorithm uses as input size increases.\n",
    "# Example: If you store input in a new list of size n, space complexity is O(n).\n",
    "\n",
    "# 🔸 Example:\n",
    "# Let's analyze the following code:\n",
    "\n",
    "def print_items(arr):\n",
    "    for item in arr:\n",
    "        print(item)  # O(1) for each print, O(n) overall since it runs n times\n",
    "\n",
    "# Time Complexity: O(n) – loop runs once for each element\n",
    "# Space Complexity: O(1) – no extra space used besides a few variables\n",
    "\n",
    "# Now if we make a new list:\n",
    "\n",
    "def duplicate_items(arr):\n",
    "    new_list = []\n",
    "    for item in arr:\n",
    "        new_list.append(item)\n",
    "    return new_list\n",
    "\n",
    "# Time Complexity: O(n)\n",
    "# Space Complexity: O(n) – new list grows with input size"
   ]
  }
 ],
 "metadata": {
  "language_info": {
   "name": "python"
  }
 },
 "nbformat": 4,
 "nbformat_minor": 5
}
