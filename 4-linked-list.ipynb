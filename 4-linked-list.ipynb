{
 "cells": [
  {
   "cell_type": "markdown",
   "id": "0b828695",
   "metadata": {},
   "source": [
    "# Linked List"
   ]
  },
  {
   "cell_type": "code",
   "execution_count": 1,
   "id": "0ea2d6a4",
   "metadata": {},
   "outputs": [],
   "source": [
    "# Linked list \n"
   ]
  },
  {
   "cell_type": "code",
   "execution_count": 2,
   "id": "0f86e9a3",
   "metadata": {},
   "outputs": [
    {
     "name": "stdout",
     "output_type": "stream",
     "text": [
      "10 -> 20 -> 30 -> None\n",
      "5 -> 10 -> 20 -> 30 -> None\n",
      "5 -> 10 -> 30 -> None\n",
      "5 -> 30 -> None\n",
      "Value at index 1: 30\n",
      "Value at index 5: None\n"
     ]
    }
   ],
   "source": [
    "# 🔗 Definition of a singly linked list node\n",
    "class ListNode:\n",
    "    def __init__(self, val=0, next=None):\n",
    "        # Each node stores a value and a pointer to the next node\n",
    "        self.val = val        # Value/data of the node\n",
    "        self.next = next      # Pointer to the next node in the list\n",
    "\n",
    "\n",
    "# 🧱 Class to represent the linked list itself\n",
    "class LinkedList:\n",
    "    def __init__(self):\n",
    "        # The linked list starts with an empty head (no nodes)\n",
    "        self.head = None\n",
    "\n",
    "    # 📌 Add a node at the end of the linked list\n",
    "    def append(self, val):\n",
    "        \"\"\"\n",
    "        Adds a node with the given value at the end of the list.\n",
    "        \"\"\"\n",
    "        new_node = ListNode(val)\n",
    "\n",
    "        if not self.head:\n",
    "            # If list is empty, new node becomes the head\n",
    "            self.head = new_node\n",
    "            return\n",
    "\n",
    "        # Traverse to the last node\n",
    "        current = self.head\n",
    "        while current.next:\n",
    "            current = current.next\n",
    "\n",
    "        # Link the last node to the new node\n",
    "        current.next = new_node\n",
    "\n",
    "    # 📌 Add a node at the beginning\n",
    "    def prepend(self, val):\n",
    "        \"\"\"\n",
    "        Adds a node with the given value at the beginning of the list.\n",
    "        \"\"\"\n",
    "        new_node = ListNode(val)\n",
    "        new_node.next = self.head  # New node points to current head\n",
    "        self.head = new_node       # New node becomes the new head\n",
    "\n",
    "    # 🗑️ Delete first node with given value\n",
    "    def delete_value(self, val):\n",
    "        \"\"\"\n",
    "        Deletes the first node found with the given value.\n",
    "        \"\"\"\n",
    "        if not self.head:\n",
    "            return  # List is empty\n",
    "\n",
    "        if self.head.val == val:\n",
    "            # If the head node is the one to be deleted\n",
    "            self.head = self.head.next\n",
    "            return\n",
    "\n",
    "        # Traverse to find the node before the one to delete\n",
    "        current = self.head\n",
    "        while current.next and current.next.val != val:\n",
    "            current = current.next\n",
    "\n",
    "        if current.next:\n",
    "            # Skip over the node to be deleted\n",
    "            current.next = current.next.next\n",
    "\n",
    "    # ❌ Delete a node at a specific index (0-based)\n",
    "    def delete_at_index(self, index):\n",
    "        \"\"\"\n",
    "        Deletes a node at the specified index.\n",
    "        \"\"\"\n",
    "        if not self.head:\n",
    "            return\n",
    "\n",
    "        if index == 0:\n",
    "            # Remove head\n",
    "            self.head = self.head.next\n",
    "            return\n",
    "\n",
    "        current = self.head\n",
    "        for i in range(index - 1):\n",
    "            if current.next is None:\n",
    "                return  # Index out of bounds\n",
    "            current = current.next\n",
    "\n",
    "        if current.next:\n",
    "            current.next = current.next.next\n",
    "\n",
    "    # 🔎 Access value at specific index\n",
    "    def get(self, index):\n",
    "        \"\"\"\n",
    "        Returns the value at the specified index. Returns None if out of bounds.\n",
    "        \"\"\"\n",
    "        current = self.head\n",
    "        for i in range(index):\n",
    "            if current is None:\n",
    "                return None\n",
    "            current = current.next\n",
    "\n",
    "        return current.val if current else None\n",
    "\n",
    "    # 🧾 Print the linked list nicely\n",
    "    def print_list(self):\n",
    "        \"\"\"\n",
    "        Prints all the node values in the list.\n",
    "        \"\"\"\n",
    "        current = self.head\n",
    "        while current:\n",
    "            print(current.val, end=\" -> \")\n",
    "            current = current.next\n",
    "        print(\"None\")\n",
    "\n",
    "# 🧪 ========== EXAMPLES ==========\n",
    "\n",
    "# Create a new empty linked list\n",
    "ll = LinkedList()\n",
    "\n",
    "# Append values to the end of the list\n",
    "ll.append(10)      # List: 10\n",
    "ll.append(20)      # List: 10 -> 20\n",
    "ll.append(30)      # List: 10 -> 20 -> 30\n",
    "ll.print_list()    # Output: 10 -> 20 -> 30 -> None\n",
    "\n",
    "# Prepend a value to the beginning\n",
    "ll.prepend(5)      # List: 5 -> 10 -> 20 -> 30\n",
    "ll.print_list()    # Output: 5 -> 10 -> 20 -> 30 -> None\n",
    "\n",
    "# Delete a value\n",
    "ll.delete_value(20)  # Deletes node with value 20\n",
    "ll.print_list()      # Output: 5 -> 10 -> 30 -> None\n",
    "\n",
    "# Delete node at index\n",
    "ll.delete_at_index(1)  # Deletes node at index 1 (value 10)\n",
    "ll.print_list()        # Output: 5 -> 30 -> None\n",
    "\n",
    "# Access value at a specific index\n",
    "print(\"Value at index 1:\", ll.get(1))  # Output: Value at index 1: 30\n",
    "print(\"Value at index 5:\", ll.get(5))  # Output: Value at index 5: None\n"
   ]
  },
  {
   "cell_type": "code",
   "execution_count": 3,
   "id": "5bba18e8",
   "metadata": {},
   "outputs": [],
   "source": [
    "# 🔗 Definition of a doubly linked list node\n",
    "class DoublyListNode:\n",
    "    def __init__(self, val=0):\n",
    "        self.val = val               # Data stored in the node\n",
    "        self.prev = None             # Pointer to the previous node\n",
    "        self.next = None             # Pointer to the next node\n",
    "\n",
    "\n",
    "# 🧱 Doubly Linked List class containing all operations\n",
    "class DoublyLinkedList:\n",
    "    def __init__(self):\n",
    "        self.head = None  # First node of the list\n",
    "        self.tail = None  # Last node of the list (to make appending faster)\n",
    "\n",
    "    # 📌 Add node at the end\n",
    "    def append(self, val):\n",
    "        \"\"\"\n",
    "        Adds a node with the given value at the end of the list.\n",
    "        \"\"\"\n",
    "        new_node = DoublyListNode(val)\n",
    "\n",
    "        if not self.head:\n",
    "            # If list is empty, new node becomes both head and tail\n",
    "            self.head = self.tail = new_node\n",
    "        else:\n",
    "            # Link the new node with the current tail\n",
    "            self.tail.next = new_node\n",
    "            new_node.prev = self.tail\n",
    "            self.tail = new_node  # Update tail to the new node\n",
    "\n",
    "    # 📌 Add node at the beginning\n",
    "    def prepend(self, val):\n",
    "        \"\"\"\n",
    "        Adds a node with the given value at the beginning of the list.\n",
    "        \"\"\"\n",
    "        new_node = DoublyListNode(val)\n",
    "\n",
    "        if not self.head:\n",
    "            # If list is empty, new node is both head and tail\n",
    "            self.head = self.tail = new_node\n",
    "        else:\n",
    "            # Link new node to current head\n",
    "            new_node.next = self.head\n",
    "            self.head.prev = new_node\n",
    "            self.head = new_node  # Update head to new node\n",
    "\n",
    "    # ❌ Delete first node with a specific value\n",
    "    def delete_value(self, val):\n",
    "        \"\"\"\n",
    "        Deletes the first node with the specified value.\n",
    "        \"\"\"\n",
    "        current = self.head\n",
    "\n",
    "        while current:\n",
    "            if current.val == val:\n",
    "                # Update links of prev and next nodes\n",
    "                if current.prev:\n",
    "                    current.prev.next = current.next\n",
    "                else:\n",
    "                    self.head = current.next  # We're deleting the head\n",
    "\n",
    "                if current.next:\n",
    "                    current.next.prev = current.prev\n",
    "                else:\n",
    "                    self.tail = current.prev  # We're deleting the tail\n",
    "\n",
    "                return  # Only delete the first occurrence\n",
    "            current = current.next\n",
    "\n",
    "    # ❌ Delete node at a specific index\n",
    "    def delete_at_index(self, index):\n",
    "        \"\"\"\n",
    "        Deletes node at a given index (0-based).\n",
    "        \"\"\"\n",
    "        current = self.head\n",
    "        i = 0\n",
    "\n",
    "        while current and i < index:\n",
    "            current = current.next\n",
    "            i += 1\n",
    "\n",
    "        if current:\n",
    "            # Reconnect neighbors\n",
    "            if current.prev:\n",
    "                current.prev.next = current.next\n",
    "            else:\n",
    "                self.head = current.next  # If head is deleted\n",
    "\n",
    "            if current.next:\n",
    "                current.next.prev = current.prev\n",
    "            else:\n",
    "                self.tail = current.prev  # If tail is deleted\n",
    "\n",
    "    # 🔎 Get value at index\n",
    "    def get(self, index):\n",
    "        \"\"\"\n",
    "        Returns the value at the specified index.\n",
    "        \"\"\"\n",
    "        current = self.head\n",
    "        i = 0\n",
    "\n",
    "        while current and i < index:\n",
    "            current = current.next\n",
    "            i += 1\n",
    "\n",
    "        return current.val if current else None\n",
    "\n",
    "    # 🖨️ Print the list from head to tail\n",
    "    def print_forward(self):\n",
    "        \"\"\"\n",
    "        Prints the list from head to tail.\n",
    "        \"\"\"\n",
    "        current = self.head\n",
    "        while current:\n",
    "            print(current.val, end=\" <-> \")\n",
    "            current = current.next\n",
    "        print(\"None\")\n",
    "\n",
    "    # 🔁 Print the list from tail to head\n",
    "    def print_backward(self):\n",
    "        \"\"\"\n",
    "        Prints the list from tail to head.\n",
    "        \"\"\"\n",
    "        current = self.tail\n",
    "        while current:\n",
    "            print(current.val, end=\" <-> \")\n",
    "            current = current.prev\n",
    "        print(\"None\")\n"
   ]
  },
  {
   "cell_type": "code",
   "execution_count": 4,
   "id": "c623f5fa",
   "metadata": {},
   "outputs": [],
   "source": [
    "# Greg Hogg"
   ]
  },
  {
   "cell_type": "code",
   "execution_count": 5,
   "id": "bdcea1a1",
   "metadata": {},
   "outputs": [],
   "source": [
    "# Singly Linked Lists\n",
    "\n",
    "class SinglyNode:\n",
    "\n",
    "  def __init__(self, val, next=None):\n",
    "    self.val = val\n",
    "    self.next = next\n",
    "\n",
    "  def __str__(self):\n",
    "    return str(self.val)"
   ]
  },
  {
   "cell_type": "code",
   "execution_count": 6,
   "id": "5861780d",
   "metadata": {},
   "outputs": [
    {
     "name": "stdout",
     "output_type": "stream",
     "text": [
      "1\n"
     ]
    }
   ],
   "source": [
    "Head = SinglyNode(1)\n",
    "A = SinglyNode(3)\n",
    "B = SinglyNode(4)\n",
    "C = SinglyNode(7)\n",
    "\n",
    "Head.next = A\n",
    "A.next = B\n",
    "B.next = C\n",
    "\n",
    "print(Head)"
   ]
  },
  {
   "cell_type": "code",
   "execution_count": 7,
   "id": "95840d92",
   "metadata": {},
   "outputs": [
    {
     "name": "stdout",
     "output_type": "stream",
     "text": [
      "1\n",
      "3\n",
      "4\n",
      "7\n"
     ]
    }
   ],
   "source": [
    "# Traverse the list - O(n)\n",
    "curr = Head\n",
    "\n",
    "while curr:\n",
    "  print(curr)\n",
    "  curr = curr.next"
   ]
  },
  {
   "cell_type": "code",
   "execution_count": 8,
   "id": "6a5a3259",
   "metadata": {},
   "outputs": [
    {
     "name": "stdout",
     "output_type": "stream",
     "text": [
      "1 -> 3 -> 4 -> 7\n"
     ]
    }
   ],
   "source": [
    "# Diplay linked list - O(n)\n",
    "def display(head):\n",
    "  curr = head\n",
    "  elements = []\n",
    "  while curr:\n",
    "    elements.append(str(curr.val))\n",
    "    curr = curr.next\n",
    "  print(' -> '.join(elements))\n",
    "\n",
    "display(Head)"
   ]
  },
  {
   "cell_type": "code",
   "execution_count": 9,
   "id": "0bb0c076",
   "metadata": {},
   "outputs": [
    {
     "data": {
      "text/plain": [
       "True"
      ]
     },
     "execution_count": 9,
     "metadata": {},
     "output_type": "execute_result"
    }
   ],
   "source": [
    "# Search for node value - O(n)\n",
    "def search(head, val):\n",
    "  curr = head\n",
    "  while curr:\n",
    "    if val == curr.val:\n",
    "      return True\n",
    "    curr = curr.next\n",
    "\n",
    "  return False\n",
    "\n",
    "search(Head, 7)"
   ]
  },
  {
   "cell_type": "code",
   "execution_count": 10,
   "id": "310c9d73",
   "metadata": {},
   "outputs": [],
   "source": [
    "# Doubly Linked Lists\n",
    "\n",
    "class DoublyNode:\n",
    "  def __init__(self, val, next=None, prev=None):\n",
    "    self.val = val\n",
    "    self.next = next\n",
    "    self.prev = prev\n",
    "\n",
    "  def __str__(self):\n",
    "    return str(self.val)"
   ]
  },
  {
   "cell_type": "code",
   "execution_count": 11,
   "id": "b3321b2c",
   "metadata": {},
   "outputs": [
    {
     "name": "stdout",
     "output_type": "stream",
     "text": [
      "1\n"
     ]
    }
   ],
   "source": [
    "head = tail = DoublyNode(1)\n",
    "print(tail)"
   ]
  },
  {
   "cell_type": "code",
   "execution_count": 12,
   "id": "8fb5e32e",
   "metadata": {},
   "outputs": [
    {
     "name": "stdout",
     "output_type": "stream",
     "text": [
      "1\n"
     ]
    }
   ],
   "source": [
    "# Display - O(n)\n",
    "def display(head):\n",
    "  curr = head\n",
    "  elements = []\n",
    "  while curr:\n",
    "    elements.append(str(curr.val))\n",
    "    curr = curr.next\n",
    "  print(' <-> '.join(elements))\n",
    "\n",
    "display(head)"
   ]
  },
  {
   "cell_type": "code",
   "execution_count": 13,
   "id": "78c442b2",
   "metadata": {},
   "outputs": [
    {
     "name": "stdout",
     "output_type": "stream",
     "text": [
      "3 <-> 1\n"
     ]
    }
   ],
   "source": [
    "# Insert at beginning - O(1)\n",
    "def insert_at_beginning(head, tail, val):\n",
    "  new_node = DoublyNode(val, next=head)\n",
    "  head.prev = new_node\n",
    "  return new_node, tail\n",
    "\n",
    "head, tail = insert_at_beginning(head, tail, 3)\n",
    "display(head)"
   ]
  },
  {
   "cell_type": "code",
   "execution_count": 14,
   "id": "e4bba286",
   "metadata": {},
   "outputs": [
    {
     "name": "stdout",
     "output_type": "stream",
     "text": [
      "3 <-> 1 <-> 7\n"
     ]
    }
   ],
   "source": [
    "# Insert at end - O(1)\n",
    "def insert_at_end(head, tail, val):\n",
    "    new_node = DoublyNode(val, prev=tail)\n",
    "    tail.next = new_node\n",
    "    return head, new_node\n",
    "\n",
    "head, tail = insert_at_end(head, tail, 7)\n",
    "display(head)"
   ]
  },
  {
   "cell_type": "code",
   "execution_count": null,
   "id": "8844fa2d",
   "metadata": {},
   "outputs": [],
   "source": []
  }
 ],
 "metadata": {
  "kernelspec": {
   "display_name": "Python 3",
   "language": "python",
   "name": "python3"
  },
  "language_info": {
   "codemirror_mode": {
    "name": "ipython",
    "version": 3
   },
   "file_extension": ".py",
   "mimetype": "text/x-python",
   "name": "python",
   "nbconvert_exporter": "python",
   "pygments_lexer": "ipython3",
   "version": "3.11.9"
  }
 },
 "nbformat": 4,
 "nbformat_minor": 5
}
