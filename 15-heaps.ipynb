{
 "cells": [
  {
   "cell_type": "markdown",
   "id": "eb3bf489",
   "metadata": {},
   "source": [
    "## Heaps/Priority Queue"
   ]
  },
  {
   "cell_type": "code",
   "execution_count": 1,
   "id": "1b244b12",
   "metadata": {},
   "outputs": [
    {
     "name": "stdout",
     "output_type": "stream",
     "text": [
      "Example 1 - Min Heap:\n",
      "[1, 3, 8, 5]\n",
      "Pop min element: 1\n",
      "\n",
      "Example 2 - Max Heap:\n",
      "[8, 3, 5, 1]\n",
      "Pop max element: 8\n",
      "\n",
      "Example 3 - Heapify a list:\n",
      "[10, 20, 15, 30, 40]\n",
      "\n",
      "Example 4 - 3 Smallest Elements: [3, 4, 7]\n",
      "3 Largest Elements: [20, 15, 10]\n"
     ]
    }
   ],
   "source": [
    "# heaps_tutorial.py\n",
    "\n",
    "# --------------------------------------------\n",
    "# 🌱 WHAT IS A HEAP?\n",
    "# --------------------------------------------\n",
    "\n",
    "# ✅ A Heap is a special **binary tree** data structure:\n",
    "# - Complete Binary Tree (all levels filled except possibly the last)\n",
    "# - Satisfies the **heap property**:\n",
    "#   - Min-Heap: Parent ≤ Children (smallest at root)\n",
    "#   - Max-Heap: Parent ≥ Children (largest at root)\n",
    "\n",
    "# ✅ Common Operations:\n",
    "# - Insertion: O(log n)\n",
    "# - Deletion (usually of root): O(log n)\n",
    "# - Access min/max: O(1)\n",
    "\n",
    "# --------------------------------------------\n",
    "# 🛠 PYTHON HEAP IMPLEMENTATION\n",
    "# --------------------------------------------\n",
    "\n",
    "# ✅ Python has a built-in module: `heapq`\n",
    "# - It implements a **Min-Heap**\n",
    "# - Max-Heap can be simulated by inserting negative values\n",
    "\n",
    "import heapq\n",
    "\n",
    "# -------------------------------\n",
    "# Example 1: Min Heap\n",
    "# -------------------------------\n",
    "\n",
    "min_heap = []\n",
    "heapq.heappush(min_heap, 5)\n",
    "heapq.heappush(min_heap, 3)\n",
    "heapq.heappush(min_heap, 8)\n",
    "heapq.heappush(min_heap, 1)\n",
    "\n",
    "print(\"Example 1 - Min Heap:\")\n",
    "print(min_heap)  # Internally [1, 3, 8, 5]\n",
    "\n",
    "print(\"Pop min element:\", heapq.heappop(min_heap))  # 1\n",
    "\n",
    "# -------------------------------\n",
    "# Example 2: Max Heap (by negating values)\n",
    "# -------------------------------\n",
    "\n",
    "max_heap = []\n",
    "heapq.heappush(max_heap, -5)\n",
    "heapq.heappush(max_heap, -3)\n",
    "heapq.heappush(max_heap, -8)\n",
    "heapq.heappush(max_heap, -1)\n",
    "\n",
    "print(\"\\nExample 2 - Max Heap:\")\n",
    "print([-x for x in max_heap])  # Show positive version for clarity\n",
    "\n",
    "print(\"Pop max element:\", -heapq.heappop(max_heap))  # 8\n",
    "\n",
    "\n",
    "# -------------------------------\n",
    "# Example 3: Convert list to Min Heap\n",
    "# -------------------------------\n",
    "\n",
    "nums = [10, 20, 15, 30, 40]\n",
    "heapq.heapify(nums)\n",
    "print(\"\\nExample 3 - Heapify a list:\")\n",
    "print(nums)  # A valid Min-Heap structure\n",
    "\n",
    "\n",
    "# -------------------------------\n",
    "# Example 4: Get K smallest/largest elements\n",
    "# -------------------------------\n",
    "\n",
    "nums = [7, 10, 4, 3, 20, 15]\n",
    "\n",
    "# Smallest 3\n",
    "smallest = heapq.nsmallest(3, nums)\n",
    "print(\"\\nExample 4 - 3 Smallest Elements:\", smallest)  # [3, 4, 7]\n",
    "\n",
    "# Largest 3\n",
    "largest = heapq.nlargest(3, nums)\n",
    "print(\"3 Largest Elements:\", largest)  # [20, 15, 10]\n",
    "\n",
    "\n",
    "# -------------------------------\n",
    "# 📦 HEAP USE CASES\n",
    "# -------------------------------\n",
    "\n",
    "# ✅ Priority Queue (Task scheduling)\n",
    "# ✅ Dijkstra's Algorithm (Shortest Path)\n",
    "# ✅ Kth Largest/Smallest Element\n",
    "# ✅ Merging K sorted lists\n",
    "# ✅ Top K frequent elements\n",
    "\n",
    "\n",
    "# -------------------------------\n",
    "# 📊 TIME & SPACE COMPLEXITY\n",
    "# -------------------------------\n",
    "\n",
    "# ✅ heappush / heappop: O(log n)\n",
    "# ✅ heapify: O(n)\n",
    "# ✅ Access min: O(1)\n",
    "# ✅ Space: O(n) to store n elements\n",
    "\n",
    "# -------------------------------\n",
    "# SUMMARY\n",
    "# -------------------------------\n",
    "\n",
    "# 🟩 Min-Heap: Smallest at top, use directly with heapq\n",
    "# 🟥 Max-Heap: Use -value trick\n",
    "# 🔁 Push: heapq.heappush(heap, val)\n",
    "# 🔁 Pop: heapq.heappop(heap)\n",
    "# 🛠 heapify(): turns list into valid heap\n",
    "# 📌 nlargest(), nsmallest(): get top-K items\n"
   ]
  },
  {
   "cell_type": "code",
   "execution_count": 2,
   "id": "bedc8907",
   "metadata": {},
   "outputs": [
    {
     "data": {
      "text/plain": [
       "[-4, 0, 1, 3, 2, 5, 10, 8, 12, 9]"
      ]
     },
     "execution_count": 2,
     "metadata": {},
     "output_type": "execute_result"
    }
   ],
   "source": [
    "# Build Min Heap (Heapify)\n",
    "# Time: O(n), Space: O(1)\n",
    "\n",
    "A = [-4, 3, 1, 0, 2, 5, 10, 8, 12, 9]\n",
    "\n",
    "import heapq\n",
    "heapq.heapify(A)\n",
    "\n",
    "A"
   ]
  },
  {
   "cell_type": "code",
   "execution_count": 3,
   "id": "74e4ff4a",
   "metadata": {},
   "outputs": [
    {
     "data": {
      "text/plain": [
       "[-4, 0, 1, 3, 2, 5, 10, 8, 12, 9, 4]"
      ]
     },
     "execution_count": 3,
     "metadata": {},
     "output_type": "execute_result"
    }
   ],
   "source": [
    "# Heap Push (Insert element)\n",
    "# Time: O(log n)\n",
    "\n",
    "heapq.heappush(A, 4)\n",
    "\n",
    "A"
   ]
  },
  {
   "cell_type": "code",
   "execution_count": 4,
   "id": "b6868ccb",
   "metadata": {},
   "outputs": [
    {
     "data": {
      "text/plain": [
       "([0, 2, 1, 3, 4, 5, 10, 8, 12, 9], -4)"
      ]
     },
     "execution_count": 4,
     "metadata": {},
     "output_type": "execute_result"
    }
   ],
   "source": [
    "# Heap Pop (Extract min)\n",
    "# Time: O(log n)\n",
    "\n",
    "minn = heapq.heappop(A)\n",
    "\n",
    "A, minn"
   ]
  },
  {
   "cell_type": "code",
   "execution_count": 5,
   "id": "a3751c7e",
   "metadata": {},
   "outputs": [
    {
     "data": {
      "text/plain": [
       "[0, 1, 2, 3, 4, 5, 6, 7, 8, 9]"
      ]
     },
     "execution_count": 5,
     "metadata": {},
     "output_type": "execute_result"
    }
   ],
   "source": [
    "# Heap Sort\n",
    "# Time: O(n log n), Space: O(n)\n",
    "# NOTE: O(1) Space is possible via swapping, but this is complex\n",
    "\n",
    "def heapsort(arr):\n",
    "  heapq.heapify(arr)\n",
    "  n = len(arr)\n",
    "  new_list = [0] * n\n",
    "\n",
    "  for i in range(n):\n",
    "    minn = heapq.heappop(arr)\n",
    "    new_list[i] = minn\n",
    "\n",
    "  return new_list\n",
    "\n",
    "heapsort([1, 3, 5, 7, 9, 2, 4, 6, 8, 0])"
   ]
  },
  {
   "cell_type": "code",
   "execution_count": 6,
   "id": "62c6dcb6",
   "metadata": {},
   "outputs": [
    {
     "data": {
      "text/plain": [
       "[1, 2, 5, 3, 4, 99, 10, 8, 12, 9]"
      ]
     },
     "execution_count": 6,
     "metadata": {},
     "output_type": "execute_result"
    }
   ],
   "source": [
    "# Heap Push Pop: Time: O(log n)\n",
    "\n",
    "heapq.heappushpop(A, 99)\n",
    "A"
   ]
  },
  {
   "cell_type": "code",
   "execution_count": 7,
   "id": "16eab2c8",
   "metadata": {},
   "outputs": [
    {
     "data": {
      "text/plain": [
       "1"
      ]
     },
     "execution_count": 7,
     "metadata": {},
     "output_type": "execute_result"
    }
   ],
   "source": [
    "# Peak at Min: Time O(1)\n",
    "A[0]"
   ]
  },
  {
   "cell_type": "code",
   "execution_count": 8,
   "id": "5dd510e3",
   "metadata": {},
   "outputs": [
    {
     "data": {
      "text/plain": [
       "[-12, -9, -10, -8, -2, -5, -1, -3, 0, 4]"
      ]
     },
     "execution_count": 8,
     "metadata": {},
     "output_type": "execute_result"
    }
   ],
   "source": [
    "# Max Heap\n",
    "\n",
    "B = [-4, 3, 1, 0, 2, 5, 10, 8, 12, 9]\n",
    "n = len(B)\n",
    "\n",
    "for i in range(n):\n",
    "  B[i] = -B[i]\n",
    "\n",
    "heapq.heapify(B)\n",
    "\n",
    "B"
   ]
  },
  {
   "cell_type": "code",
   "execution_count": 9,
   "id": "410f1f80",
   "metadata": {},
   "outputs": [
    {
     "data": {
      "text/plain": [
       "12"
      ]
     },
     "execution_count": 9,
     "metadata": {},
     "output_type": "execute_result"
    }
   ],
   "source": [
    "largest = -heapq.heappop(B)\n",
    "\n",
    "largest"
   ]
  },
  {
   "cell_type": "code",
   "execution_count": 10,
   "id": "fa1af588",
   "metadata": {},
   "outputs": [
    {
     "data": {
      "text/plain": [
       "[-10, -9, -5, -8, -7, 4, -1, -3, 0, -2]"
      ]
     },
     "execution_count": 10,
     "metadata": {},
     "output_type": "execute_result"
    }
   ],
   "source": [
    "heapq.heappush(B, -7) # Insert 7 into max heap\n",
    "\n",
    "B"
   ]
  },
  {
   "cell_type": "code",
   "execution_count": 11,
   "id": "19a66863",
   "metadata": {},
   "outputs": [
    {
     "name": "stdout",
     "output_type": "stream",
     "text": [
      "[-5] 1\n",
      "[-5, 4] 2\n",
      "[-5, 4, 2] 3\n",
      "[-5, 1, 2, 4] 4\n",
      "[-5, 1, 2, 4, 7] 5\n",
      "[-5, 1, 0, 4, 7, 2] 6\n",
      "[-5, 1, 0, 4, 7, 2, 3] 7\n"
     ]
    }
   ],
   "source": [
    "# Build heap from scratch - Time: O(n log n)\n",
    "\n",
    "C = [-5, 4, 2, 1, 7, 0, 3]\n",
    "\n",
    "heap = []\n",
    "\n",
    "for x in C:\n",
    "  heapq.heappush(heap, x)\n",
    "  print(heap, len(heap)) # Check size of heap"
   ]
  },
  {
   "cell_type": "code",
   "execution_count": 12,
   "id": "22a8ae81",
   "metadata": {},
   "outputs": [
    {
     "data": {
      "text/plain": [
       "Counter({5: 4, 4: 3, 3: 2})"
      ]
     },
     "execution_count": 12,
     "metadata": {},
     "output_type": "execute_result"
    }
   ],
   "source": [
    "# Putting tuples of items on the heap\n",
    "\n",
    "D = [5, 4, 3, 5, 4, 3, 5, 5, 4]\n",
    "\n",
    "from collections import Counter\n",
    "\n",
    "counter = Counter(D)\n",
    "\n",
    "counter"
   ]
  },
  {
   "cell_type": "code",
   "execution_count": 13,
   "id": "2f5d0b1c",
   "metadata": {},
   "outputs": [
    {
     "data": {
      "text/plain": [
       "[(2, 3), (4, 5), (3, 4)]"
      ]
     },
     "execution_count": 13,
     "metadata": {},
     "output_type": "execute_result"
    }
   ],
   "source": [
    "heap = []\n",
    "\n",
    "for k, v in counter.items():\n",
    "  heapq.heappush(heap, (v, k))\n",
    "\n",
    "heap"
   ]
  },
  {
   "cell_type": "code",
   "execution_count": null,
   "id": "b224e53d",
   "metadata": {},
   "outputs": [],
   "source": []
  }
 ],
 "metadata": {
  "kernelspec": {
   "display_name": "Python 3",
   "language": "python",
   "name": "python3"
  },
  "language_info": {
   "codemirror_mode": {
    "name": "ipython",
    "version": 3
   },
   "file_extension": ".py",
   "mimetype": "text/x-python",
   "name": "python",
   "nbconvert_exporter": "python",
   "pygments_lexer": "ipython3",
   "version": "3.11.9"
  }
 },
 "nbformat": 4,
 "nbformat_minor": 5
}
