{
 "cells": [
  {
   "cell_type": "markdown",
   "id": "bda506b9",
   "metadata": {},
   "source": [
    "# Recursion"
   ]
  },
  {
   "cell_type": "code",
   "execution_count": 1,
   "id": "60cd1247",
   "metadata": {},
   "outputs": [
    {
     "name": "stdout",
     "output_type": "stream",
     "text": [
      "Factorial of 5: 120\n",
      "Fibonacci of 6: 8\n",
      "Reversed 'hello': olleh\n",
      "Sum of digits of 1234: 10\n"
     ]
    }
   ],
   "source": [
    "# ===============================\n",
    "# 📘 RECURSION IN PYTHON - LEARNING GUIDE\n",
    "# ===============================\n",
    "\n",
    "# 🔁 What is Recursion?\n",
    "# Recursion is a programming technique where a function calls itself to solve a smaller subproblem.\n",
    "# It typically has:\n",
    "#   1. A **base case** – the simplest instance where the function does NOT call itself.\n",
    "#   2. A **recursive case** – where the function calls itself with a smaller/simpler input.\n",
    "\n",
    "# Let's start with a classic example.\n",
    "\n",
    "# ======================================\n",
    "# Example 1: Factorial using recursion\n",
    "# ======================================\n",
    "\n",
    "def factorial(n):\n",
    "    # 🧠 Base case: factorial(0) = 1\n",
    "    if n == 0:\n",
    "        return 1\n",
    "    # 🔁 Recursive case: n! = n * (n-1)!\n",
    "    return n * factorial(n - 1)\n",
    "\n",
    "print(\"Factorial of 5:\", factorial(5))  # 120\n",
    "\n",
    "\n",
    "# ======================================\n",
    "# Example 2: Fibonacci numbers\n",
    "# ======================================\n",
    "# Fibonacci sequence: 0, 1, 1, 2, 3, 5, 8, 13...\n",
    "# fib(n) = fib(n-1) + fib(n-2), with base cases:\n",
    "# fib(0) = 0, fib(1) = 1\n",
    "\n",
    "def fibonacci(n):\n",
    "    if n == 0:\n",
    "        return 0\n",
    "    elif n == 1:\n",
    "        return 1\n",
    "    return fibonacci(n - 1) + fibonacci(n - 2)\n",
    "\n",
    "print(\"Fibonacci of 6:\", fibonacci(6))  # 8\n",
    "\n",
    "\n",
    "# ======================================\n",
    "# Example 3: Reverse a string using recursion\n",
    "# ======================================\n",
    "\n",
    "def reverse_string(s):\n",
    "    if len(s) <= 1:\n",
    "        return s\n",
    "    # Take the last character + recurse on the rest\n",
    "    return s[-1] + reverse_string(s[:-1])\n",
    "\n",
    "print(\"Reversed 'hello':\", reverse_string(\"hello\"))  # 'olleh'\n",
    "\n",
    "\n",
    "# ======================================\n",
    "# Example 4: Sum of digits\n",
    "# ======================================\n",
    "\n",
    "def sum_of_digits(n):\n",
    "    if n == 0:\n",
    "        return 0\n",
    "    return (n % 10) + sum_of_digits(n // 10)\n",
    "\n",
    "print(\"Sum of digits of 1234:\", sum_of_digits(1234))  # 10\n",
    "\n",
    "\n",
    "# ======================================\n",
    "# 🧪 Tips for Thinking Recursively\n",
    "# ======================================\n",
    "# - Think of the **base case** first — when should the function stop?\n",
    "# - Assume the function works for smaller inputs, and build your solution from that.\n",
    "# - Recursion is like solving a big problem by breaking it into the same smaller problem again and again.\n",
    "\n",
    "# ======================================\n",
    "# 🧠 When NOT to use recursion:\n",
    "# ======================================\n",
    "# - Python has a recursion depth limit (default ~1000). Deep recursion may cause errors.\n",
    "# - If you can do it with a loop, it’s often more efficient (in time & memory).\n",
    "\n",
    "# ======================================\n",
    "# ✅ Practice Exercises\n",
    "# ======================================\n",
    "# 1. Write a function to compute the sum of the first `n` natural numbers recursively.\n",
    "# 2. Write a function to count how many times a digit appears in a number.\n",
    "# 3. Write a function to check if a string is a palindrome using recursion.\n",
    "\n"
   ]
  },
  {
   "cell_type": "code",
   "execution_count": 2,
   "id": "75c5402a",
   "metadata": {},
   "outputs": [
    {
     "name": "stdout",
     "output_type": "stream",
     "text": [
      "Counting down: 3\n",
      "Counting down: 2\n",
      "Counting down: 1\n",
      "Liftoff! 🚀\n",
      "Returning from call: 1\n",
      "Returning from call: 2\n",
      "Returning from call: 3\n"
     ]
    }
   ],
   "source": [
    "# 🧠 What is a Call Stack?\n",
    "# A data structure used by Python (and most programming languages) to keep track of function calls.\n",
    "# Each time a function is called, it is pushed onto the stack.\n",
    "# When the function returns, it is popped from the stack.\n",
    "\n",
    "# ================================\n",
    "# 📍 EXAMPLE 3: Printing Call Stack - Count Down\n",
    "# ================================\n",
    "\n",
    "def countdown(n):\n",
    "    if n == 0:\n",
    "        print(\"Liftoff! 🚀\")\n",
    "        return\n",
    "    print(\"Counting down:\", n)\n",
    "    countdown(n - 1)\n",
    "    print(\"Returning from call:\", n)\n",
    "\n",
    "# This shows how calls are made and returned\n",
    "countdown(3)\n",
    "\n",
    "# Output:\n",
    "# Counting down: 3\n",
    "# Counting down: 2\n",
    "# Counting down: 1\n",
    "# Liftoff! 🚀\n",
    "# Returning from call: 1\n",
    "# Returning from call: 2\n",
    "# Returning from call: 3\n",
    "\n",
    "# ================================\n",
    "# 🔄 KEY POINTS\n",
    "# ================================\n",
    "# - Recursion has two main parts: base case and recursive case.\n",
    "# - Without a base case, recursion leads to infinite calls and crashes (RecursionError).\n",
    "# - The call stack holds each recursive call until it finishes, then unwinds.\n",
    "# - Understanding how values are returned when the stack unwinds is essential.\n",
    "\n",
    "# ================================\n",
    "# ✅ VISUALIZE WITH TRACING TOOLS\n",
    "# ================================\n",
    "# You can use Python Tutor: https://pythontutor.com/ to visualize the call stack step-by-step."
   ]
  },
  {
   "cell_type": "code",
   "execution_count": null,
   "id": "af79a5a7",
   "metadata": {},
   "outputs": [],
   "source": [
    "#Time complexity - O(2^n) for Fibonacci, O(n) for Factorial and Sum of Digits\n",
    "# Space complexity - O(n) due to the call stack"
   ]
  },
  {
   "cell_type": "markdown",
   "id": "54fec11b",
   "metadata": {},
   "source": [
    "## Greg Hogg"
   ]
  },
  {
   "cell_type": "code",
   "execution_count": 4,
   "id": "068800b1",
   "metadata": {},
   "outputs": [
    {
     "data": {
      "text/plain": [
       "144"
      ]
     },
     "execution_count": 4,
     "metadata": {},
     "output_type": "execute_result"
    }
   ],
   "source": [
    "# Fibonacci\n",
    "# F(0) = 0\n",
    "# F(1) = 1\n",
    "# n > 1: F(n) = F(n-1) + F(n-2)\n",
    "\n",
    "# Time: O(2^n), Space: O(n)\n",
    "def F(n):\n",
    "  if n == 0:\n",
    "    return 0\n",
    "  elif n == 1:\n",
    "    return 1\n",
    "  else:\n",
    "    return F(n-1) + F(n-2)\n",
    "\n",
    "F(12)"
   ]
  },
  {
   "cell_type": "code",
   "execution_count": 5,
   "id": "584b548f",
   "metadata": {},
   "outputs": [
    {
     "name": "stdout",
     "output_type": "stream",
     "text": [
      "1\n"
     ]
    }
   ],
   "source": [
    "# Linked Lists\n",
    "\n",
    "class SinglyNode:\n",
    "\n",
    "  def __init__(self, val, next=None):\n",
    "    self.val = val\n",
    "    self.next = next\n",
    "\n",
    "  def __str__(self):\n",
    "    return str(self.val)\n",
    "\n",
    "Head = SinglyNode(1)\n",
    "A = SinglyNode(3)\n",
    "B = SinglyNode(4)\n",
    "C = SinglyNode(7)\n",
    "\n",
    "Head.next = A\n",
    "A.next = B\n",
    "B.next = C\n",
    "\n",
    "print(Head)"
   ]
  },
  {
   "cell_type": "code",
   "execution_count": 6,
   "id": "3fbf3d93",
   "metadata": {},
   "outputs": [
    {
     "name": "stdout",
     "output_type": "stream",
     "text": [
      "7\n",
      "4\n",
      "3\n",
      "1\n"
     ]
    }
   ],
   "source": [
    "# Time: O(n), Space: O(n)\n",
    "def reverse(node):\n",
    "  if not node:\n",
    "    return\n",
    "\n",
    "  reverse(node.next)\n",
    "  print(node)\n",
    "\n",
    "\n",
    "reverse(Head)"
   ]
  },
  {
   "cell_type": "code",
   "execution_count": null,
   "id": "4ddc3608",
   "metadata": {},
   "outputs": [],
   "source": []
  }
 ],
 "metadata": {
  "kernelspec": {
   "display_name": "Python 3",
   "language": "python",
   "name": "python3"
  },
  "language_info": {
   "codemirror_mode": {
    "name": "ipython",
    "version": 3
   },
   "file_extension": ".py",
   "mimetype": "text/x-python",
   "name": "python",
   "nbconvert_exporter": "python",
   "pygments_lexer": "ipython3",
   "version": "3.11.9"
  }
 },
 "nbformat": 4,
 "nbformat_minor": 5
}
