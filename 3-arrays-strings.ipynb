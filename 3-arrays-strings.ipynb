{
 "cells": [
  {
   "cell_type": "markdown",
   "id": "58e38200",
   "metadata": {},
   "source": [
    "# Static Arrays, Dynamic Arrays and Strings"
   ]
  },
  {
   "cell_type": "code",
   "execution_count": null,
   "id": "2b6fa5f1",
   "metadata": {},
   "outputs": [],
   "source": [
    "# Arrays - mutable, check if in an array, add to an array, remove from an array, shifting an array\n",
    "# Dynamic arrays - arrays that can grow and shrink in size - List in Python\n"
   ]
  },
  {
   "cell_type": "code",
   "execution_count": 1,
   "id": "4e91da52",
   "metadata": {},
   "outputs": [
    {
     "data": {
      "text/plain": [
       "[1, 2, 3]"
      ]
     },
     "execution_count": 1,
     "metadata": {},
     "output_type": "execute_result"
    }
   ],
   "source": [
    "a = [1,2,3]\n",
    "a"
   ]
  },
  {
   "cell_type": "code",
   "execution_count": 2,
   "id": "20432863",
   "metadata": {},
   "outputs": [
    {
     "data": {
      "text/plain": [
       "[1, 2, 3, 4]"
      ]
     },
     "execution_count": 2,
     "metadata": {},
     "output_type": "execute_result"
    }
   ],
   "source": [
    "# Append to an array\n",
    "a.append(4)\n",
    "a"
   ]
  },
  {
   "cell_type": "code",
   "execution_count": 3,
   "id": "0119fb8a",
   "metadata": {},
   "outputs": [
    {
     "data": {
      "text/plain": [
       "[1, 2, 3]"
      ]
     },
     "execution_count": 3,
     "metadata": {},
     "output_type": "execute_result"
    }
   ],
   "source": [
    "# Pop from an array - removes the last element\n",
    "a.pop()\n",
    "a"
   ]
  },
  {
   "cell_type": "code",
   "execution_count": 4,
   "id": "97fb5ac5",
   "metadata": {},
   "outputs": [
    {
     "data": {
      "text/plain": [
       "[1, 5, 2, 3]"
      ]
     },
     "execution_count": 4,
     "metadata": {},
     "output_type": "execute_result"
    }
   ],
   "source": [
    "# Insert into an array - insert at a specific index\n",
    "a.insert(1, 5)  # Insert 5 at index 1\n",
    "a"
   ]
  },
  {
   "cell_type": "code",
   "execution_count": 5,
   "id": "e8c8a66f",
   "metadata": {},
   "outputs": [],
   "source": [
    "# Modify an element in an array\n",
    "a[0] = 10  # Change the first element to 10"
   ]
  },
  {
   "cell_type": "code",
   "execution_count": 6,
   "id": "83f36a3a",
   "metadata": {},
   "outputs": [
    {
     "data": {
      "text/plain": [
       "[10, 5, 2, 3]"
      ]
     },
     "execution_count": 6,
     "metadata": {},
     "output_type": "execute_result"
    }
   ],
   "source": [
    "a"
   ]
  },
  {
   "cell_type": "code",
   "execution_count": 7,
   "id": "94fb11e7",
   "metadata": {},
   "outputs": [
    {
     "data": {
      "text/plain": [
       "10"
      ]
     },
     "execution_count": 7,
     "metadata": {},
     "output_type": "execute_result"
    }
   ],
   "source": [
    "# Accessing elements in an array\n",
    "first_element = a[0]  # Access the first element    \n",
    "first_element"
   ]
  },
  {
   "cell_type": "code",
   "execution_count": 8,
   "id": "5e9d60dc",
   "metadata": {},
   "outputs": [
    {
     "name": "stdout",
     "output_type": "stream",
     "text": [
      "5 is in the array\n"
     ]
    }
   ],
   "source": [
    "if 5 in a:  # Check if 5 is in the array\n",
    "    print(\"5 is in the array\")"
   ]
  },
  {
   "cell_type": "code",
   "execution_count": 9,
   "id": "f48a885b",
   "metadata": {},
   "outputs": [
    {
     "data": {
      "text/plain": [
       "'Hello World'"
      ]
     },
     "execution_count": 9,
     "metadata": {},
     "output_type": "execute_result"
    }
   ],
   "source": [
    "# Strings\n",
    "# Append to a string\n",
    "s = \"Hello\"\n",
    "b = s + \" World\"  # Concatenate strings\n",
    "b"
   ]
  },
  {
   "cell_type": "code",
   "execution_count": 11,
   "id": "3be79a3b",
   "metadata": {},
   "outputs": [
    {
     "name": "stdout",
     "output_type": "stream",
     "text": [
      "e is in the string\n"
     ]
    }
   ],
   "source": [
    "# Check if something is in a string\n",
    "if 'e' in s:  # Check if 'f' is in the string\n",
    "    print(\"e is in the string\")"
   ]
  },
  {
   "cell_type": "code",
   "execution_count": 12,
   "id": "a831e2aa",
   "metadata": {},
   "outputs": [
    {
     "data": {
      "text/plain": [
       "'H'"
      ]
     },
     "execution_count": 12,
     "metadata": {},
     "output_type": "execute_result"
    }
   ],
   "source": [
    "# Access positions in a string\n",
    "first_char = s[0]  # Access the first character\n",
    "first_char"
   ]
  },
  {
   "cell_type": "code",
   "execution_count": 13,
   "id": "0e79a34c",
   "metadata": {},
   "outputs": [
    {
     "data": {
      "text/plain": [
       "5"
      ]
     },
     "execution_count": 13,
     "metadata": {},
     "output_type": "execute_result"
    }
   ],
   "source": [
    "# length of a string\n",
    "length_of_s = len(s)  # Get the length of the string    \n",
    "length_of_s"
   ]
  },
  {
   "cell_type": "code",
   "execution_count": 14,
   "id": "bb2d9385",
   "metadata": {},
   "outputs": [
    {
     "data": {
      "text/plain": [
       "4"
      ]
     },
     "execution_count": 14,
     "metadata": {},
     "output_type": "execute_result"
    }
   ],
   "source": [
    "# length of a array\n",
    "length_of_a = len(a)  # Get the length of the array\n",
    "length_of_a"
   ]
  },
  {
   "cell_type": "code",
   "execution_count": null,
   "id": "4c3d068d",
   "metadata": {},
   "outputs": [],
   "source": []
  }
 ],
 "metadata": {
  "kernelspec": {
   "display_name": "Python 3",
   "language": "python",
   "name": "python3"
  },
  "language_info": {
   "codemirror_mode": {
    "name": "ipython",
    "version": 3
   },
   "file_extension": ".py",
   "mimetype": "text/x-python",
   "name": "python",
   "nbconvert_exporter": "python",
   "pygments_lexer": "ipython3",
   "version": "3.11.9"
  }
 },
 "nbformat": 4,
 "nbformat_minor": 5
}
